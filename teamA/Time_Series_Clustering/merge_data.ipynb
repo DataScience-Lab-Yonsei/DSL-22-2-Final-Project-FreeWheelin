{
  "nbformat": 4,
  "nbformat_minor": 0,
  "metadata": {
    "colab": {
      "provenance": [],
      "collapsed_sections": [
        "ZGUhN0uF6Bp3",
        "N9WJO_by6Kzm",
        "nQ62Fmn575UG",
        "qM9wI5yGAFdc",
        "-KaZcTxAuMAu",
        "792iAVQawnhy"
      ],
      "toc_visible": true,
      "machine_shape": "hm"
    },
    "kernelspec": {
      "name": "python3",
      "display_name": "Python 3"
    },
    "language_info": {
      "name": "python"
    },
    "gpuClass": "standard"
  },
  "cells": [
    {
      "cell_type": "code",
      "execution_count": null,
      "metadata": {
        "colab": {
          "base_uri": "https://localhost:8080/"
        },
        "id": "VgGP93raNJGN",
        "outputId": "c4461224-8386-4e93-80ca-0707c2d4c0f8"
      },
      "outputs": [
        {
          "output_type": "stream",
          "name": "stdout",
          "text": [
            "Drive already mounted at /content/drive; to attempt to forcibly remount, call drive.mount(\"/content/drive\", force_remount=True).\n"
          ]
        }
      ],
      "source": [
        "# 내 구글 드라이브에 연동\n",
        "from google.colab import drive\n",
        "drive.mount('/content/drive')"
      ]
    },
    {
      "cell_type": "code",
      "source": [
        "import pandas as pd"
      ],
      "metadata": {
        "id": "4miUri3oNmkC"
      },
      "execution_count": null,
      "outputs": []
    },
    {
      "cell_type": "code",
      "source": [
        "#sws = pd.read_csv('/content/drive/MyDrive/archive/sql_2_csv/student_worksheet_scoring.csv')\n",
        "#wp = pd.read_csv('/content/drive/MyDrive/archive/sql_2_csv/worksheet_problem.csv')\n",
        "#p = pd.read_csv('/content/drive/MyDrive/archive/sql_2_csv/problem.csv')\n",
        "#s = pd.read_csv('/content/drive/MyDrive/archive/sql_2_csv/student.csv')\n",
        "#sw = pd.read_csv('/content/drive/MyDrive/archive/sql_2_csv/student_worksheet.csv')\n",
        "#pc = pd.read_csv('/content/drive/MyDrive/archive/sql_2_csv/problem_concept.csv')\n",
        "#w = pd.read_csv('/content/drive/MyDrive/archive/sql_2_csv/worksheet.csv')"
      ],
      "metadata": {
        "id": "XZyuo-xwOC-V"
      },
      "execution_count": null,
      "outputs": []
    },
    {
      "cell_type": "markdown",
      "source": [
        "# worksheet_problem"
      ],
      "metadata": {
        "id": "eYIZAqZrXAtb"
      }
    },
    {
      "cell_type": "markdown",
      "source": [
        "## 필요한 데이터만 추출하기"
      ],
      "metadata": {
        "id": "cyg_aLhiHoIB"
      }
    },
    {
      "cell_type": "code",
      "source": [
        "wp = pd.read_csv('/content/drive/MyDrive/archive/sql_2_csv/worksheet_problem.csv')"
      ],
      "metadata": {
        "id": "cS6a0gt7ODCq"
      },
      "execution_count": null,
      "outputs": []
    },
    {
      "cell_type": "code",
      "source": [
        "wp.head()"
      ],
      "metadata": {
        "id": "ETpfzTSgV2g-"
      },
      "execution_count": null,
      "outputs": []
    },
    {
      "cell_type": "code",
      "source": [
        "wp.info()"
      ],
      "metadata": {
        "colab": {
          "base_uri": "https://localhost:8080/"
        },
        "id": "FCJtgmY5V2jM",
        "outputId": "50d884e7-f91c-49b7-9f18-54479bdbbac2"
      },
      "execution_count": null,
      "outputs": [
        {
          "output_type": "stream",
          "name": "stdout",
          "text": [
            "<class 'pandas.core.frame.DataFrame'>\n",
            "RangeIndex: 99132042 entries, 0 to 99132041\n",
            "Data columns (total 6 columns):\n",
            " #   Column           Dtype\n",
            "---  ------           -----\n",
            " 0   Unnamed: 0       int64\n",
            " 1   id               int64\n",
            " 2   worksheet_id     int64\n",
            " 3   problem_id       int64\n",
            " 4   ordering_number  int64\n",
            " 5   type             int64\n",
            "dtypes: int64(6)\n",
            "memory usage: 4.4 GB\n"
          ]
        }
      ]
    },
    {
      "cell_type": "code",
      "source": [
        "wp.columns"
      ],
      "metadata": {
        "colab": {
          "base_uri": "https://localhost:8080/"
        },
        "id": "HJEPTwUvWBed",
        "outputId": "ed4ce189-acda-4897-93f8-df425865d9ce"
      },
      "execution_count": null,
      "outputs": [
        {
          "output_type": "execute_result",
          "data": {
            "text/plain": [
              "Index(['Unnamed: 0', 'id', 'worksheet_id', 'problem_id', 'ordering_number',\n",
              "       'type'],\n",
              "      dtype='object')"
            ]
          },
          "metadata": {},
          "execution_count": 6
        }
      ]
    },
    {
      "cell_type": "code",
      "source": [
        "wp_ = wp[['id', 'worksheet_id', 'problem_id']]"
      ],
      "metadata": {
        "id": "hdyJc-jGV2lX"
      },
      "execution_count": null,
      "outputs": []
    },
    {
      "cell_type": "code",
      "source": [
        "wp_.info()"
      ],
      "metadata": {
        "colab": {
          "base_uri": "https://localhost:8080/"
        },
        "id": "0sV5_id7V2nM",
        "outputId": "6b1a3089-4755-4f77-a009-685edd3496b8"
      },
      "execution_count": null,
      "outputs": [
        {
          "output_type": "stream",
          "name": "stdout",
          "text": [
            "<class 'pandas.core.frame.DataFrame'>\n",
            "RangeIndex: 99132042 entries, 0 to 99132041\n",
            "Data columns (total 3 columns):\n",
            " #   Column        Dtype\n",
            "---  ------        -----\n",
            " 0   id            int64\n",
            " 1   worksheet_id  int64\n",
            " 2   problem_id    int64\n",
            "dtypes: int64(3)\n",
            "memory usage: 2.2 GB\n"
          ]
        }
      ]
    },
    {
      "cell_type": "code",
      "source": [
        "wp_.to_csv('wp.csv')"
      ],
      "metadata": {
        "id": "rUvgF9loWoyT"
      },
      "execution_count": null,
      "outputs": []
    },
    {
      "cell_type": "markdown",
      "source": [
        "# student_worksheet_scoring"
      ],
      "metadata": {
        "id": "3B5xL0AVXF-L"
      }
    },
    {
      "cell_type": "markdown",
      "source": [
        "## 필요한 데이터만 추출하기"
      ],
      "metadata": {
        "id": "3ca42o495An2"
      }
    },
    {
      "cell_type": "code",
      "source": [
        "sws = pd.read_csv('/content/drive/MyDrive/archive/sql_2_csv/student_worksheet_scoring.csv')\n"
      ],
      "metadata": {
        "id": "LeFNOajSODAl"
      },
      "execution_count": null,
      "outputs": []
    },
    {
      "cell_type": "code",
      "source": [
        "sws.head()"
      ],
      "metadata": {
        "id": "dXRys9SCV2px",
        "colab": {
          "base_uri": "https://localhost:8080/",
          "height": 374
        },
        "outputId": "197c2113-b50f-445f-c55f-2fa232c1dced"
      },
      "execution_count": null,
      "outputs": [
        {
          "output_type": "execute_result",
          "data": {
            "text/plain": [
              "   Unnamed: 0     id  student_worksheet_id  worksheet_problem_id   result  \\\n",
              "0           0  22673               6915137             146873314  CORRECT   \n",
              "1           1  22674               6915137             146873315    WRONG   \n",
              "2           2  22675               6915137             146873316    WRONG   \n",
              "3           3  22676               6915137             146873317    WRONG   \n",
              "4           4  22677               6915137             146873318    WRONG   \n",
              "\n",
              "       update_datetime  \n",
              "0  2020-10-25 15:08:06  \n",
              "1  2020-10-25 15:08:06  \n",
              "2  2020-10-25 15:08:06  \n",
              "3  2020-10-25 15:08:06  \n",
              "4  2020-10-25 15:08:06  "
            ],
            "text/html": [
              "\n",
              "  <div id=\"df-06ca07a2-1372-4498-a905-82c36b6f2fc4\">\n",
              "    <div class=\"colab-df-container\">\n",
              "      <div>\n",
              "<style scoped>\n",
              "    .dataframe tbody tr th:only-of-type {\n",
              "        vertical-align: middle;\n",
              "    }\n",
              "\n",
              "    .dataframe tbody tr th {\n",
              "        vertical-align: top;\n",
              "    }\n",
              "\n",
              "    .dataframe thead th {\n",
              "        text-align: right;\n",
              "    }\n",
              "</style>\n",
              "<table border=\"1\" class=\"dataframe\">\n",
              "  <thead>\n",
              "    <tr style=\"text-align: right;\">\n",
              "      <th></th>\n",
              "      <th>Unnamed: 0</th>\n",
              "      <th>id</th>\n",
              "      <th>student_worksheet_id</th>\n",
              "      <th>worksheet_problem_id</th>\n",
              "      <th>result</th>\n",
              "      <th>update_datetime</th>\n",
              "    </tr>\n",
              "  </thead>\n",
              "  <tbody>\n",
              "    <tr>\n",
              "      <th>0</th>\n",
              "      <td>0</td>\n",
              "      <td>22673</td>\n",
              "      <td>6915137</td>\n",
              "      <td>146873314</td>\n",
              "      <td>CORRECT</td>\n",
              "      <td>2020-10-25 15:08:06</td>\n",
              "    </tr>\n",
              "    <tr>\n",
              "      <th>1</th>\n",
              "      <td>1</td>\n",
              "      <td>22674</td>\n",
              "      <td>6915137</td>\n",
              "      <td>146873315</td>\n",
              "      <td>WRONG</td>\n",
              "      <td>2020-10-25 15:08:06</td>\n",
              "    </tr>\n",
              "    <tr>\n",
              "      <th>2</th>\n",
              "      <td>2</td>\n",
              "      <td>22675</td>\n",
              "      <td>6915137</td>\n",
              "      <td>146873316</td>\n",
              "      <td>WRONG</td>\n",
              "      <td>2020-10-25 15:08:06</td>\n",
              "    </tr>\n",
              "    <tr>\n",
              "      <th>3</th>\n",
              "      <td>3</td>\n",
              "      <td>22676</td>\n",
              "      <td>6915137</td>\n",
              "      <td>146873317</td>\n",
              "      <td>WRONG</td>\n",
              "      <td>2020-10-25 15:08:06</td>\n",
              "    </tr>\n",
              "    <tr>\n",
              "      <th>4</th>\n",
              "      <td>4</td>\n",
              "      <td>22677</td>\n",
              "      <td>6915137</td>\n",
              "      <td>146873318</td>\n",
              "      <td>WRONG</td>\n",
              "      <td>2020-10-25 15:08:06</td>\n",
              "    </tr>\n",
              "  </tbody>\n",
              "</table>\n",
              "</div>\n",
              "      <button class=\"colab-df-convert\" onclick=\"convertToInteractive('df-06ca07a2-1372-4498-a905-82c36b6f2fc4')\"\n",
              "              title=\"Convert this dataframe to an interactive table.\"\n",
              "              style=\"display:none;\">\n",
              "        \n",
              "  <svg xmlns=\"http://www.w3.org/2000/svg\" height=\"24px\"viewBox=\"0 0 24 24\"\n",
              "       width=\"24px\">\n",
              "    <path d=\"M0 0h24v24H0V0z\" fill=\"none\"/>\n",
              "    <path d=\"M18.56 5.44l.94 2.06.94-2.06 2.06-.94-2.06-.94-.94-2.06-.94 2.06-2.06.94zm-11 1L8.5 8.5l.94-2.06 2.06-.94-2.06-.94L8.5 2.5l-.94 2.06-2.06.94zm10 10l.94 2.06.94-2.06 2.06-.94-2.06-.94-.94-2.06-.94 2.06-2.06.94z\"/><path d=\"M17.41 7.96l-1.37-1.37c-.4-.4-.92-.59-1.43-.59-.52 0-1.04.2-1.43.59L10.3 9.45l-7.72 7.72c-.78.78-.78 2.05 0 2.83L4 21.41c.39.39.9.59 1.41.59.51 0 1.02-.2 1.41-.59l7.78-7.78 2.81-2.81c.8-.78.8-2.07 0-2.86zM5.41 20L4 18.59l7.72-7.72 1.47 1.35L5.41 20z\"/>\n",
              "  </svg>\n",
              "      </button>\n",
              "      \n",
              "  <style>\n",
              "    .colab-df-container {\n",
              "      display:flex;\n",
              "      flex-wrap:wrap;\n",
              "      gap: 12px;\n",
              "    }\n",
              "\n",
              "    .colab-df-convert {\n",
              "      background-color: #E8F0FE;\n",
              "      border: none;\n",
              "      border-radius: 50%;\n",
              "      cursor: pointer;\n",
              "      display: none;\n",
              "      fill: #1967D2;\n",
              "      height: 32px;\n",
              "      padding: 0 0 0 0;\n",
              "      width: 32px;\n",
              "    }\n",
              "\n",
              "    .colab-df-convert:hover {\n",
              "      background-color: #E2EBFA;\n",
              "      box-shadow: 0px 1px 2px rgba(60, 64, 67, 0.3), 0px 1px 3px 1px rgba(60, 64, 67, 0.15);\n",
              "      fill: #174EA6;\n",
              "    }\n",
              "\n",
              "    [theme=dark] .colab-df-convert {\n",
              "      background-color: #3B4455;\n",
              "      fill: #D2E3FC;\n",
              "    }\n",
              "\n",
              "    [theme=dark] .colab-df-convert:hover {\n",
              "      background-color: #434B5C;\n",
              "      box-shadow: 0px 1px 3px 1px rgba(0, 0, 0, 0.15);\n",
              "      filter: drop-shadow(0px 1px 2px rgba(0, 0, 0, 0.3));\n",
              "      fill: #FFFFFF;\n",
              "    }\n",
              "  </style>\n",
              "\n",
              "      <script>\n",
              "        const buttonEl =\n",
              "          document.querySelector('#df-06ca07a2-1372-4498-a905-82c36b6f2fc4 button.colab-df-convert');\n",
              "        buttonEl.style.display =\n",
              "          google.colab.kernel.accessAllowed ? 'block' : 'none';\n",
              "\n",
              "        async function convertToInteractive(key) {\n",
              "          const element = document.querySelector('#df-06ca07a2-1372-4498-a905-82c36b6f2fc4');\n",
              "          const dataTable =\n",
              "            await google.colab.kernel.invokeFunction('convertToInteractive',\n",
              "                                                     [key], {});\n",
              "          if (!dataTable) return;\n",
              "\n",
              "          const docLinkHtml = 'Like what you see? Visit the ' +\n",
              "            '<a target=\"_blank\" href=https://colab.research.google.com/notebooks/data_table.ipynb>data table notebook</a>'\n",
              "            + ' to learn more about interactive tables.';\n",
              "          element.innerHTML = '';\n",
              "          dataTable['output_type'] = 'display_data';\n",
              "          await google.colab.output.renderOutput(dataTable, element);\n",
              "          const docLink = document.createElement('div');\n",
              "          docLink.innerHTML = docLinkHtml;\n",
              "          element.appendChild(docLink);\n",
              "        }\n",
              "      </script>\n",
              "    </div>\n",
              "  </div>\n",
              "  "
            ]
          },
          "metadata": {},
          "execution_count": 4
        }
      ]
    },
    {
      "cell_type": "code",
      "source": [
        "sws.info()"
      ],
      "metadata": {
        "id": "SH_oQfpLWPIa",
        "colab": {
          "base_uri": "https://localhost:8080/"
        },
        "outputId": "662874df-b406-49c9-ab1c-4c12130a1f90"
      },
      "execution_count": null,
      "outputs": [
        {
          "output_type": "stream",
          "name": "stdout",
          "text": [
            "<class 'pandas.core.frame.DataFrame'>\n",
            "RangeIndex: 94515279 entries, 0 to 94515278\n",
            "Data columns (total 6 columns):\n",
            " #   Column                Dtype \n",
            "---  ------                ----- \n",
            " 0   Unnamed: 0            int64 \n",
            " 1   id                    int64 \n",
            " 2   student_worksheet_id  int64 \n",
            " 3   worksheet_problem_id  int64 \n",
            " 4   result                object\n",
            " 5   update_datetime       object\n",
            "dtypes: int64(4), object(2)\n",
            "memory usage: 4.2+ GB\n"
          ]
        }
      ]
    },
    {
      "cell_type": "code",
      "source": [
        "sws.columns"
      ],
      "metadata": {
        "id": "NnUo0l92WPKy",
        "colab": {
          "base_uri": "https://localhost:8080/"
        },
        "outputId": "583fc1cc-548a-423b-862d-209bd382528c"
      },
      "execution_count": null,
      "outputs": [
        {
          "output_type": "execute_result",
          "data": {
            "text/plain": [
              "Index(['Unnamed: 0', 'id', 'student_worksheet_id', 'worksheet_problem_id',\n",
              "       'result', 'update_datetime'],\n",
              "      dtype='object')"
            ]
          },
          "metadata": {},
          "execution_count": 6
        }
      ]
    },
    {
      "cell_type": "code",
      "source": [
        "sws['result'].unique()"
      ],
      "metadata": {
        "colab": {
          "base_uri": "https://localhost:8080/"
        },
        "id": "lVAMPpMjvjk6",
        "outputId": "e13b9b8b-1c9f-4124-b749-ce475b758457"
      },
      "execution_count": null,
      "outputs": [
        {
          "output_type": "execute_result",
          "data": {
            "text/plain": [
              "array(['CORRECT', 'WRONG', 'NONE', 'UNKNOWN'], dtype=object)"
            ]
          },
          "metadata": {},
          "execution_count": 7
        }
      ]
    },
    {
      "cell_type": "code",
      "source": [
        "sws_ = sws[(sws['result']=='CORRECT')|(sws['result']=='WRONG')]"
      ],
      "metadata": {
        "id": "iad_URxCWPM3"
      },
      "execution_count": null,
      "outputs": []
    },
    {
      "cell_type": "code",
      "source": [
        "sws_.info()"
      ],
      "metadata": {
        "id": "4_nAuJYxWPPO",
        "colab": {
          "base_uri": "https://localhost:8080/"
        },
        "outputId": "921fe70f-4339-4e58-e87a-b9d7306435bc"
      },
      "execution_count": null,
      "outputs": [
        {
          "output_type": "stream",
          "name": "stdout",
          "text": [
            "<class 'pandas.core.frame.DataFrame'>\n",
            "Int64Index: 45646385 entries, 0 to 94513995\n",
            "Data columns (total 6 columns):\n",
            " #   Column                Dtype \n",
            "---  ------                ----- \n",
            " 0   Unnamed: 0            int64 \n",
            " 1   id                    int64 \n",
            " 2   student_worksheet_id  int64 \n",
            " 3   worksheet_problem_id  int64 \n",
            " 4   result                object\n",
            " 5   update_datetime       object\n",
            "dtypes: int64(4), object(2)\n",
            "memory usage: 2.4+ GB\n"
          ]
        }
      ]
    },
    {
      "cell_type": "code",
      "source": [
        "sws_.to_csv('sws.csv')"
      ],
      "metadata": {
        "id": "XjtxF4m0wbxw"
      },
      "execution_count": null,
      "outputs": []
    },
    {
      "cell_type": "markdown",
      "source": [
        "# student / 고3만 사용"
      ],
      "metadata": {
        "id": "PjA2PWyK0NYd"
      }
    },
    {
      "cell_type": "code",
      "source": [
        "s = pd.read_csv('/content/drive/MyDrive/archive/sql_2_csv/student.csv')"
      ],
      "metadata": {
        "id": "mLMrPLK90Ngs"
      },
      "execution_count": null,
      "outputs": []
    },
    {
      "cell_type": "code",
      "source": [
        "s.columns"
      ],
      "metadata": {
        "colab": {
          "base_uri": "https://localhost:8080/"
        },
        "id": "85qwIOMG0VBG",
        "outputId": "04a4d89e-4cdb-4b83-8230-45ab739ffa3f"
      },
      "execution_count": null,
      "outputs": [
        {
          "output_type": "execute_result",
          "data": {
            "text/plain": [
              "Index(['Unnamed: 0', 'id', 'academy_id', 'school_type', 'grade', 'status'], dtype='object')"
            ]
          },
          "metadata": {},
          "execution_count": 7
        }
      ]
    },
    {
      "cell_type": "code",
      "source": [
        "s_h3 = s[(s['school_type']==3)&(s['grade']==3)]"
      ],
      "metadata": {
        "id": "mwBiJdMp0VIG"
      },
      "execution_count": null,
      "outputs": []
    },
    {
      "cell_type": "code",
      "source": [
        "s_h3 = s_h3[['id']]"
      ],
      "metadata": {
        "id": "L9L14pXm0kev"
      },
      "execution_count": null,
      "outputs": []
    },
    {
      "cell_type": "code",
      "source": [
        "s_h3.info()"
      ],
      "metadata": {
        "colab": {
          "base_uri": "https://localhost:8080/"
        },
        "id": "5jxwZy1M0tWG",
        "outputId": "e3bb4a46-e4b7-4ef1-9d82-933d3d56d85e"
      },
      "execution_count": null,
      "outputs": [
        {
          "output_type": "stream",
          "name": "stdout",
          "text": [
            "<class 'pandas.core.frame.DataFrame'>\n",
            "Int64Index: 136133 entries, 0 to 526291\n",
            "Data columns (total 1 columns):\n",
            " #   Column  Non-Null Count   Dtype \n",
            "---  ------  --------------   ----- \n",
            " 0   id      136133 non-null  object\n",
            "dtypes: object(1)\n",
            "memory usage: 2.1+ MB\n"
          ]
        }
      ]
    },
    {
      "cell_type": "markdown",
      "source": [
        "# student_worksheet"
      ],
      "metadata": {
        "id": "9gw62akJ4ySj"
      }
    },
    {
      "cell_type": "code",
      "source": [
        "sw = pd.read_csv('/content/drive/MyDrive/archive/sql_2_csv/student_worksheet.csv')"
      ],
      "metadata": {
        "id": "kISUSSh34xkP"
      },
      "execution_count": null,
      "outputs": []
    },
    {
      "cell_type": "code",
      "source": [
        "sw.columns"
      ],
      "metadata": {
        "colab": {
          "base_uri": "https://localhost:8080/"
        },
        "id": "b57rbIs05LtQ",
        "outputId": "78d01974-0fe2-4f3b-e630-33e49a678cdc"
      },
      "execution_count": null,
      "outputs": [
        {
          "output_type": "execute_result",
          "data": {
            "text/plain": [
              "Index(['Unnamed: 0', 'id', 'worksheet_id', 'student_id', 'create_datetime',\n",
              "       'open_datetime', 'solve_datetime'],\n",
              "      dtype='object')"
            ]
          },
          "metadata": {},
          "execution_count": 4
        }
      ]
    },
    {
      "cell_type": "code",
      "source": [
        "sw_ = sw[['id', 'worksheet_id', 'student_id']]"
      ],
      "metadata": {
        "id": "zMVEFRTI5KGN"
      },
      "execution_count": null,
      "outputs": []
    },
    {
      "cell_type": "markdown",
      "source": [
        "# merge"
      ],
      "metadata": {
        "id": "m2j2Iif_wXr-"
      }
    },
    {
      "cell_type": "markdown",
      "source": [
        "## sws + sw_ = merge1"
      ],
      "metadata": {
        "id": "ZGUhN0uF6Bp3"
      }
    },
    {
      "cell_type": "code",
      "source": [
        "sws = pd.read_csv('/content/sws.csv')"
      ],
      "metadata": {
        "id": "PQmDiN9AyvoW"
      },
      "execution_count": null,
      "outputs": []
    },
    {
      "cell_type": "code",
      "source": [
        "sws.info()"
      ],
      "metadata": {
        "colab": {
          "base_uri": "https://localhost:8080/"
        },
        "id": "enwIiHTc0F5B",
        "outputId": "2742c33a-4ad3-457f-e6d4-e19fba0aa35f"
      },
      "execution_count": null,
      "outputs": [
        {
          "output_type": "stream",
          "name": "stdout",
          "text": [
            "<class 'pandas.core.frame.DataFrame'>\n",
            "RangeIndex: 45646385 entries, 0 to 45646384\n",
            "Data columns (total 7 columns):\n",
            " #   Column                Dtype \n",
            "---  ------                ----- \n",
            " 0   Unnamed: 0            int64 \n",
            " 1   Unnamed: 0.1          int64 \n",
            " 2   id                    int64 \n",
            " 3   student_worksheet_id  int64 \n",
            " 4   worksheet_problem_id  int64 \n",
            " 5   result                object\n",
            " 6   update_datetime       object\n",
            "dtypes: int64(5), object(2)\n",
            "memory usage: 2.4+ GB\n"
          ]
        }
      ]
    },
    {
      "cell_type": "code",
      "source": [
        "sw_.info()"
      ],
      "metadata": {
        "colab": {
          "base_uri": "https://localhost:8080/"
        },
        "id": "D38X2hLW5Hib",
        "outputId": "e67ba074-aa71-453f-f1ea-75587a0e63b7"
      },
      "execution_count": null,
      "outputs": [
        {
          "output_type": "stream",
          "name": "stdout",
          "text": [
            "<class 'pandas.core.frame.DataFrame'>\n",
            "RangeIndex: 4200108 entries, 0 to 4200107\n",
            "Data columns (total 3 columns):\n",
            " #   Column        Dtype \n",
            "---  ------        ----- \n",
            " 0   id            int64 \n",
            " 1   worksheet_id  int64 \n",
            " 2   student_id    object\n",
            "dtypes: int64(2), object(1)\n",
            "memory usage: 96.1+ MB\n"
          ]
        }
      ]
    },
    {
      "cell_type": "code",
      "source": [
        "merge = pd.merge(sws, sw_, left_on='student_worksheet_id', right_on='id')"
      ],
      "metadata": {
        "id": "Xbz4X5cO5UZs"
      },
      "execution_count": null,
      "outputs": []
    },
    {
      "cell_type": "code",
      "source": [
        "merge.info()"
      ],
      "metadata": {
        "colab": {
          "base_uri": "https://localhost:8080/"
        },
        "id": "hghayPNc55f9",
        "outputId": "cf40a692-95a7-4c27-aacd-a1ebb3fc349d"
      },
      "execution_count": null,
      "outputs": [
        {
          "output_type": "stream",
          "name": "stdout",
          "text": [
            "<class 'pandas.core.frame.DataFrame'>\n",
            "Int64Index: 45646385 entries, 0 to 45646384\n",
            "Data columns (total 10 columns):\n",
            " #   Column                Dtype \n",
            "---  ------                ----- \n",
            " 0   Unnamed: 0            int64 \n",
            " 1   Unnamed: 0.1          int64 \n",
            " 2   id_x                  int64 \n",
            " 3   student_worksheet_id  int64 \n",
            " 4   worksheet_problem_id  int64 \n",
            " 5   result                object\n",
            " 6   update_datetime       object\n",
            " 7   id_y                  int64 \n",
            " 8   worksheet_id          int64 \n",
            " 9   student_id            object\n",
            "dtypes: int64(7), object(3)\n",
            "memory usage: 3.7+ GB\n"
          ]
        }
      ]
    },
    {
      "cell_type": "code",
      "source": [
        "#세션 다운 merge = merge.dropna(axis=0)"
      ],
      "metadata": {
        "id": "c9WtHGkj66HJ"
      },
      "execution_count": null,
      "outputs": []
    },
    {
      "cell_type": "code",
      "source": [
        "merge.to_csv('/content/drive/MyDrive/teamA/sws_sw.csv')"
      ],
      "metadata": {
        "id": "tyC9Ivri6ZDw"
      },
      "execution_count": null,
      "outputs": []
    },
    {
      "cell_type": "markdown",
      "source": [
        "## merge1 + s_h3 = merge2"
      ],
      "metadata": {
        "id": "N9WJO_by6Kzm"
      }
    },
    {
      "cell_type": "markdown",
      "source": [
        "#### 고3만 걸러내기"
      ],
      "metadata": {
        "id": "nQ62Fmn575UG"
      }
    },
    {
      "cell_type": "code",
      "source": [
        "merge1 = pd.read_csv('/content/merge1.csv')"
      ],
      "metadata": {
        "id": "DzivqMQR74Ag"
      },
      "execution_count": null,
      "outputs": []
    },
    {
      "cell_type": "code",
      "source": [
        "# one to many join 어떻게 함?"
      ],
      "metadata": {
        "id": "Zt6TmR9974Kp"
      },
      "execution_count": null,
      "outputs": []
    },
    {
      "cell_type": "code",
      "source": [
        "merge1.info()"
      ],
      "metadata": {
        "colab": {
          "base_uri": "https://localhost:8080/"
        },
        "id": "IoC6_IlJplHi",
        "outputId": "6e6d41fe-a00f-43d1-c1be-24d8ac78ca68"
      },
      "execution_count": null,
      "outputs": [
        {
          "output_type": "stream",
          "name": "stdout",
          "text": [
            "<class 'pandas.core.frame.DataFrame'>\n",
            "RangeIndex: 45646385 entries, 0 to 45646384\n",
            "Data columns (total 11 columns):\n",
            " #   Column                Dtype \n",
            "---  ------                ----- \n",
            " 0   Unnamed: 0            int64 \n",
            " 1   Unnamed: 0.1          int64 \n",
            " 2   Unnamed: 0.1.1        int64 \n",
            " 3   id_x                  int64 \n",
            " 4   student_worksheet_id  int64 \n",
            " 5   worksheet_problem_id  int64 \n",
            " 6   result                object\n",
            " 7   update_datetime       object\n",
            " 8   id_y                  int64 \n",
            " 9   worksheet_id          int64 \n",
            " 10  student_id            object\n",
            "dtypes: int64(8), object(3)\n",
            "memory usage: 3.7+ GB\n"
          ]
        }
      ]
    },
    {
      "cell_type": "code",
      "source": [
        "s_h3.info()"
      ],
      "metadata": {
        "colab": {
          "base_uri": "https://localhost:8080/"
        },
        "id": "JareK02YplN-",
        "outputId": "9afe7027-eb46-4fea-aac0-e74c7514ba95"
      },
      "execution_count": null,
      "outputs": [
        {
          "output_type": "stream",
          "name": "stdout",
          "text": [
            "<class 'pandas.core.frame.DataFrame'>\n",
            "Int64Index: 136133 entries, 0 to 526291\n",
            "Data columns (total 1 columns):\n",
            " #   Column  Non-Null Count   Dtype \n",
            "---  ------  --------------   ----- \n",
            " 0   id      136133 non-null  object\n",
            "dtypes: object(1)\n",
            "memory usage: 2.1+ MB\n"
          ]
        }
      ]
    },
    {
      "cell_type": "code",
      "source": [
        "merge2 = pd.merge(merge1,s_h3,left_on='student_id',right_on='id',how='inner')"
      ],
      "metadata": {
        "id": "DAT7vsPB74Nc"
      },
      "execution_count": null,
      "outputs": []
    },
    {
      "cell_type": "code",
      "source": [
        "merge2.info()"
      ],
      "metadata": {
        "colab": {
          "base_uri": "https://localhost:8080/"
        },
        "id": "o25UeokS_jHq",
        "outputId": "bb1dbead-2ef7-4027-925d-8ef7aa2e82de"
      },
      "execution_count": null,
      "outputs": [
        {
          "output_type": "stream",
          "name": "stdout",
          "text": [
            "<class 'pandas.core.frame.DataFrame'>\n",
            "Int64Index: 11859751 entries, 0 to 11859750\n",
            "Data columns (total 12 columns):\n",
            " #   Column                Dtype \n",
            "---  ------                ----- \n",
            " 0   Unnamed: 0            int64 \n",
            " 1   Unnamed: 0.1          int64 \n",
            " 2   Unnamed: 0.1.1        int64 \n",
            " 3   id_x                  int64 \n",
            " 4   student_worksheet_id  int64 \n",
            " 5   worksheet_problem_id  int64 \n",
            " 6   result                object\n",
            " 7   update_datetime       object\n",
            " 8   id_y                  int64 \n",
            " 9   worksheet_id          int64 \n",
            " 10  student_id            object\n",
            " 11  id                    object\n",
            "dtypes: int64(8), object(4)\n",
            "memory usage: 1.1+ GB\n"
          ]
        }
      ]
    },
    {
      "cell_type": "code",
      "source": [
        "merge2.head(3)"
      ],
      "metadata": {
        "colab": {
          "base_uri": "https://localhost:8080/",
          "height": 277
        },
        "id": "9BjQ4fqO_0fZ",
        "outputId": "c93f33c6-cb47-45f7-b85d-85d7ee419c33"
      },
      "execution_count": null,
      "outputs": [
        {
          "output_type": "execute_result",
          "data": {
            "text/plain": [
              "   Unnamed: 0  Unnamed: 0.1   id_x  student_worksheet_id  \\\n",
              "0           0             0  22673               6915137   \n",
              "1           1             1  22674               6915137   \n",
              "2           2             2  22675               6915137   \n",
              "\n",
              "   worksheet_problem_id   result      update_datetime     id_y  worksheet_id  \\\n",
              "0             146873314  CORRECT  2020-10-25 15:08:06  6915137       5525992   \n",
              "1             146873315    WRONG  2020-10-25 15:08:06  6915137       5525992   \n",
              "2             146873316    WRONG  2020-10-25 15:08:06  6915137       5525992   \n",
              "\n",
              "  student_id     id  \n",
              "0      I7951  I7951  \n",
              "1      I7951  I7951  \n",
              "2      I7951  I7951  "
            ],
            "text/html": [
              "\n",
              "  <div id=\"df-42ce5735-46dc-4eef-b2d5-bd1112e6f3b8\">\n",
              "    <div class=\"colab-df-container\">\n",
              "      <div>\n",
              "<style scoped>\n",
              "    .dataframe tbody tr th:only-of-type {\n",
              "        vertical-align: middle;\n",
              "    }\n",
              "\n",
              "    .dataframe tbody tr th {\n",
              "        vertical-align: top;\n",
              "    }\n",
              "\n",
              "    .dataframe thead th {\n",
              "        text-align: right;\n",
              "    }\n",
              "</style>\n",
              "<table border=\"1\" class=\"dataframe\">\n",
              "  <thead>\n",
              "    <tr style=\"text-align: right;\">\n",
              "      <th></th>\n",
              "      <th>Unnamed: 0</th>\n",
              "      <th>Unnamed: 0.1</th>\n",
              "      <th>id_x</th>\n",
              "      <th>student_worksheet_id</th>\n",
              "      <th>worksheet_problem_id</th>\n",
              "      <th>result</th>\n",
              "      <th>update_datetime</th>\n",
              "      <th>id_y</th>\n",
              "      <th>worksheet_id</th>\n",
              "      <th>student_id</th>\n",
              "      <th>id</th>\n",
              "    </tr>\n",
              "  </thead>\n",
              "  <tbody>\n",
              "    <tr>\n",
              "      <th>0</th>\n",
              "      <td>0</td>\n",
              "      <td>0</td>\n",
              "      <td>22673</td>\n",
              "      <td>6915137</td>\n",
              "      <td>146873314</td>\n",
              "      <td>CORRECT</td>\n",
              "      <td>2020-10-25 15:08:06</td>\n",
              "      <td>6915137</td>\n",
              "      <td>5525992</td>\n",
              "      <td>I7951</td>\n",
              "      <td>I7951</td>\n",
              "    </tr>\n",
              "    <tr>\n",
              "      <th>1</th>\n",
              "      <td>1</td>\n",
              "      <td>1</td>\n",
              "      <td>22674</td>\n",
              "      <td>6915137</td>\n",
              "      <td>146873315</td>\n",
              "      <td>WRONG</td>\n",
              "      <td>2020-10-25 15:08:06</td>\n",
              "      <td>6915137</td>\n",
              "      <td>5525992</td>\n",
              "      <td>I7951</td>\n",
              "      <td>I7951</td>\n",
              "    </tr>\n",
              "    <tr>\n",
              "      <th>2</th>\n",
              "      <td>2</td>\n",
              "      <td>2</td>\n",
              "      <td>22675</td>\n",
              "      <td>6915137</td>\n",
              "      <td>146873316</td>\n",
              "      <td>WRONG</td>\n",
              "      <td>2020-10-25 15:08:06</td>\n",
              "      <td>6915137</td>\n",
              "      <td>5525992</td>\n",
              "      <td>I7951</td>\n",
              "      <td>I7951</td>\n",
              "    </tr>\n",
              "  </tbody>\n",
              "</table>\n",
              "</div>\n",
              "      <button class=\"colab-df-convert\" onclick=\"convertToInteractive('df-42ce5735-46dc-4eef-b2d5-bd1112e6f3b8')\"\n",
              "              title=\"Convert this dataframe to an interactive table.\"\n",
              "              style=\"display:none;\">\n",
              "        \n",
              "  <svg xmlns=\"http://www.w3.org/2000/svg\" height=\"24px\"viewBox=\"0 0 24 24\"\n",
              "       width=\"24px\">\n",
              "    <path d=\"M0 0h24v24H0V0z\" fill=\"none\"/>\n",
              "    <path d=\"M18.56 5.44l.94 2.06.94-2.06 2.06-.94-2.06-.94-.94-2.06-.94 2.06-2.06.94zm-11 1L8.5 8.5l.94-2.06 2.06-.94-2.06-.94L8.5 2.5l-.94 2.06-2.06.94zm10 10l.94 2.06.94-2.06 2.06-.94-2.06-.94-.94-2.06-.94 2.06-2.06.94z\"/><path d=\"M17.41 7.96l-1.37-1.37c-.4-.4-.92-.59-1.43-.59-.52 0-1.04.2-1.43.59L10.3 9.45l-7.72 7.72c-.78.78-.78 2.05 0 2.83L4 21.41c.39.39.9.59 1.41.59.51 0 1.02-.2 1.41-.59l7.78-7.78 2.81-2.81c.8-.78.8-2.07 0-2.86zM5.41 20L4 18.59l7.72-7.72 1.47 1.35L5.41 20z\"/>\n",
              "  </svg>\n",
              "      </button>\n",
              "      \n",
              "  <style>\n",
              "    .colab-df-container {\n",
              "      display:flex;\n",
              "      flex-wrap:wrap;\n",
              "      gap: 12px;\n",
              "    }\n",
              "\n",
              "    .colab-df-convert {\n",
              "      background-color: #E8F0FE;\n",
              "      border: none;\n",
              "      border-radius: 50%;\n",
              "      cursor: pointer;\n",
              "      display: none;\n",
              "      fill: #1967D2;\n",
              "      height: 32px;\n",
              "      padding: 0 0 0 0;\n",
              "      width: 32px;\n",
              "    }\n",
              "\n",
              "    .colab-df-convert:hover {\n",
              "      background-color: #E2EBFA;\n",
              "      box-shadow: 0px 1px 2px rgba(60, 64, 67, 0.3), 0px 1px 3px 1px rgba(60, 64, 67, 0.15);\n",
              "      fill: #174EA6;\n",
              "    }\n",
              "\n",
              "    [theme=dark] .colab-df-convert {\n",
              "      background-color: #3B4455;\n",
              "      fill: #D2E3FC;\n",
              "    }\n",
              "\n",
              "    [theme=dark] .colab-df-convert:hover {\n",
              "      background-color: #434B5C;\n",
              "      box-shadow: 0px 1px 3px 1px rgba(0, 0, 0, 0.15);\n",
              "      filter: drop-shadow(0px 1px 2px rgba(0, 0, 0, 0.3));\n",
              "      fill: #FFFFFF;\n",
              "    }\n",
              "  </style>\n",
              "\n",
              "      <script>\n",
              "        const buttonEl =\n",
              "          document.querySelector('#df-42ce5735-46dc-4eef-b2d5-bd1112e6f3b8 button.colab-df-convert');\n",
              "        buttonEl.style.display =\n",
              "          google.colab.kernel.accessAllowed ? 'block' : 'none';\n",
              "\n",
              "        async function convertToInteractive(key) {\n",
              "          const element = document.querySelector('#df-42ce5735-46dc-4eef-b2d5-bd1112e6f3b8');\n",
              "          const dataTable =\n",
              "            await google.colab.kernel.invokeFunction('convertToInteractive',\n",
              "                                                     [key], {});\n",
              "          if (!dataTable) return;\n",
              "\n",
              "          const docLinkHtml = 'Like what you see? Visit the ' +\n",
              "            '<a target=\"_blank\" href=https://colab.research.google.com/notebooks/data_table.ipynb>data table notebook</a>'\n",
              "            + ' to learn more about interactive tables.';\n",
              "          element.innerHTML = '';\n",
              "          dataTable['output_type'] = 'display_data';\n",
              "          await google.colab.output.renderOutput(dataTable, element);\n",
              "          const docLink = document.createElement('div');\n",
              "          docLink.innerHTML = docLinkHtml;\n",
              "          element.appendChild(docLink);\n",
              "        }\n",
              "      </script>\n",
              "    </div>\n",
              "  </div>\n",
              "  "
            ]
          },
          "metadata": {},
          "execution_count": 17
        }
      ]
    },
    {
      "cell_type": "code",
      "source": [
        "merge2.to_csv('/content/drive/MyDrive/teamA/merge2.csv')"
      ],
      "metadata": {
        "id": "b0IlGb-7_jLH"
      },
      "execution_count": null,
      "outputs": []
    },
    {
      "cell_type": "code",
      "source": [],
      "metadata": {
        "id": "Ooh5KvcF_jO-"
      },
      "execution_count": null,
      "outputs": []
    },
    {
      "cell_type": "markdown",
      "source": [
        "## merge2 + wp = merge3"
      ],
      "metadata": {
        "id": "qM9wI5yGAFdc"
      }
    },
    {
      "cell_type": "code",
      "source": [
        "wp = pd.read_csv('/content/wp.csv')"
      ],
      "metadata": {
        "id": "Ed2KVU1V6K_A"
      },
      "execution_count": null,
      "outputs": []
    },
    {
      "cell_type": "code",
      "source": [
        "merge2 = pd.read_csv('/content/merge2.csv')"
      ],
      "metadata": {
        "id": "51F8ufvf6SwQ"
      },
      "execution_count": null,
      "outputs": []
    },
    {
      "cell_type": "code",
      "source": [
        "wp.info()"
      ],
      "metadata": {
        "id": "_whfAR2h6S6M",
        "colab": {
          "base_uri": "https://localhost:8080/"
        },
        "outputId": "694b3fcf-9a40-4b81-b523-9f557aa0ce0a"
      },
      "execution_count": null,
      "outputs": [
        {
          "output_type": "stream",
          "name": "stdout",
          "text": [
            "<class 'pandas.core.frame.DataFrame'>\n",
            "RangeIndex: 99132042 entries, 0 to 99132041\n",
            "Data columns (total 4 columns):\n",
            " #   Column        Dtype\n",
            "---  ------        -----\n",
            " 0   Unnamed: 0    int64\n",
            " 1   id            int64\n",
            " 2   worksheet_id  int64\n",
            " 3   problem_id    int64\n",
            "dtypes: int64(4)\n",
            "memory usage: 3.0 GB\n"
          ]
        }
      ]
    },
    {
      "cell_type": "code",
      "source": [
        "merge2.info()"
      ],
      "metadata": {
        "colab": {
          "base_uri": "https://localhost:8080/"
        },
        "id": "tWte8xUjscy1",
        "outputId": "713891c4-405c-4ea6-f5f6-0e98bb9757a4"
      },
      "execution_count": null,
      "outputs": [
        {
          "output_type": "stream",
          "name": "stdout",
          "text": [
            "<class 'pandas.core.frame.DataFrame'>\n",
            "RangeIndex: 11859751 entries, 0 to 11859750\n",
            "Data columns (total 12 columns):\n",
            " #   Column                Dtype \n",
            "---  ------                ----- \n",
            " 0   Unnamed: 0            int64 \n",
            " 1   Unnamed: 0.1          int64 \n",
            " 2   Unnamed: 0.1.1        int64 \n",
            " 3   id_x                  int64 \n",
            " 4   student_worksheet_id  int64 \n",
            " 5   worksheet_problem_id  int64 \n",
            " 6   result                object\n",
            " 7   update_datetime       object\n",
            " 8   id_y                  int64 \n",
            " 9   worksheet_id          int64 \n",
            " 10  student_id            object\n",
            " 11  id                    object\n",
            "dtypes: int64(8), object(4)\n",
            "memory usage: 1.1+ GB\n"
          ]
        }
      ]
    },
    {
      "cell_type": "code",
      "source": [
        "merge3 = pd.merge(merge2,wp,left_on='worksheet_problem_id',right_on='id',how='inner')"
      ],
      "metadata": {
        "colab": {
          "base_uri": "https://localhost:8080/"
        },
        "id": "LTRWieUAsc1S",
        "outputId": "faa053c6-224d-432f-dfd7-b0b7d91a9e88"
      },
      "execution_count": null,
      "outputs": [
        {
          "output_type": "stream",
          "name": "stderr",
          "text": [
            "/usr/local/lib/python3.7/dist-packages/ipykernel_launcher.py:1: FutureWarning: Passing 'suffixes' which cause duplicate columns {'id_x'} in the result is deprecated and will raise a MergeError in a future version.\n",
            "  \"\"\"Entry point for launching an IPython kernel.\n"
          ]
        }
      ]
    },
    {
      "cell_type": "code",
      "source": [
        "merge3.info()"
      ],
      "metadata": {
        "colab": {
          "base_uri": "https://localhost:8080/"
        },
        "id": "U5Iks2D9sepZ",
        "outputId": "f3fcf51e-eb8f-4175-e3e2-d1520629eae6"
      },
      "execution_count": null,
      "outputs": [
        {
          "output_type": "stream",
          "name": "stdout",
          "text": [
            "<class 'pandas.core.frame.DataFrame'>\n",
            "Int64Index: 11859751 entries, 0 to 11859750\n",
            "Data columns (total 16 columns):\n",
            " #   Column                Dtype \n",
            "---  ------                ----- \n",
            " 0   Unnamed: 0_x          int64 \n",
            " 1   Unnamed: 0.1          int64 \n",
            " 2   Unnamed: 0.1.1        int64 \n",
            " 3   id_x                  int64 \n",
            " 4   student_worksheet_id  int64 \n",
            " 5   worksheet_problem_id  int64 \n",
            " 6   result                object\n",
            " 7   update_datetime       object\n",
            " 8   id_y                  int64 \n",
            " 9   worksheet_id_x        int64 \n",
            " 10  student_id            object\n",
            " 11  id_x                  object\n",
            " 12  Unnamed: 0_y          int64 \n",
            " 13  id_y                  int64 \n",
            " 14  worksheet_id_y        int64 \n",
            " 15  problem_id            int64 \n",
            "dtypes: int64(12), object(4)\n",
            "memory usage: 1.5+ GB\n"
          ]
        }
      ]
    },
    {
      "cell_type": "code",
      "source": [
        "merge3.to_csv('merge3.csv')"
      ],
      "metadata": {
        "id": "X5PbBhRyserq"
      },
      "execution_count": null,
      "outputs": []
    },
    {
      "cell_type": "markdown",
      "source": [
        "## merge3 + worksheet = merge4"
      ],
      "metadata": {
        "id": "-KaZcTxAuMAu"
      }
    },
    {
      "cell_type": "code",
      "source": [
        "w = pd.read_csv('/content/drive/MyDrive/archive/sql_2_csv/worksheet.csv')"
      ],
      "metadata": {
        "id": "6tamFdWPtoTl"
      },
      "execution_count": null,
      "outputs": []
    },
    {
      "cell_type": "code",
      "source": [
        "merge3 = pd.read_csv('/content/drive/MyDrive/teamA/merge3.csv')"
      ],
      "metadata": {
        "id": "9jCM1-AQuwNU"
      },
      "execution_count": null,
      "outputs": []
    },
    {
      "cell_type": "code",
      "source": [
        "w.info()"
      ],
      "metadata": {
        "colab": {
          "base_uri": "https://localhost:8080/"
        },
        "id": "ecYshvN1toZq",
        "outputId": "6c5dc4ba-2410-4104-8d8f-bce4f60f3791"
      },
      "execution_count": null,
      "outputs": [
        {
          "output_type": "stream",
          "name": "stdout",
          "text": [
            "<class 'pandas.core.frame.DataFrame'>\n",
            "RangeIndex: 3238590 entries, 0 to 3238589\n",
            "Data columns (total 8 columns):\n",
            " #   Column           Dtype \n",
            "---  ------           ----- \n",
            " 0   Unnamed: 0       int64 \n",
            " 1   id               int64 \n",
            " 2   type             int64 \n",
            " 3   school           int64 \n",
            " 4   grade            object\n",
            " 5   level            int64 \n",
            " 6   delete_flag      int64 \n",
            " 7   create_datetime  object\n",
            "dtypes: int64(6), object(2)\n",
            "memory usage: 197.7+ MB\n"
          ]
        }
      ]
    },
    {
      "cell_type": "code",
      "source": [
        "merge3.info()"
      ],
      "metadata": {
        "colab": {
          "base_uri": "https://localhost:8080/"
        },
        "id": "NBdl4RONvHtQ",
        "outputId": "0c804601-c16a-434f-a874-7aee9b556dec"
      },
      "execution_count": null,
      "outputs": [
        {
          "output_type": "stream",
          "name": "stdout",
          "text": [
            "<class 'pandas.core.frame.DataFrame'>\n",
            "RangeIndex: 11859751 entries, 0 to 11859750\n",
            "Data columns (total 17 columns):\n",
            " #   Column                Dtype \n",
            "---  ------                ----- \n",
            " 0   Unnamed: 0            int64 \n",
            " 1   Unnamed: 0_x          int64 \n",
            " 2   Unnamed: 0.1          int64 \n",
            " 3   Unnamed: 0.1.1        int64 \n",
            " 4   id_x                  int64 \n",
            " 5   student_worksheet_id  int64 \n",
            " 6   worksheet_problem_id  int64 \n",
            " 7   result                object\n",
            " 8   update_datetime       object\n",
            " 9   id_y                  int64 \n",
            " 10  worksheet_id_x        int64 \n",
            " 11  student_id            object\n",
            " 12  id_x.1                object\n",
            " 13  Unnamed: 0_y          int64 \n",
            " 14  id_y.1                int64 \n",
            " 15  worksheet_id_y        int64 \n",
            " 16  problem_id            int64 \n",
            "dtypes: int64(13), object(4)\n",
            "memory usage: 1.5+ GB\n"
          ]
        }
      ]
    },
    {
      "cell_type": "code",
      "source": [
        "merge3.head(3)"
      ],
      "metadata": {
        "colab": {
          "base_uri": "https://localhost:8080/",
          "height": 260
        },
        "id": "u1SKzVUTvLsC",
        "outputId": "eba4f5a1-5461-4d23-c4f1-5557ef704a34"
      },
      "execution_count": null,
      "outputs": [
        {
          "output_type": "execute_result",
          "data": {
            "text/plain": [
              "   Unnamed: 0  Unnamed: 0_x  Unnamed: 0.1  Unnamed: 0.1.1   id_x  \\\n",
              "0           0             0             0               0  22673   \n",
              "1           1          6248         11629           11629  83242   \n",
              "2           2             1             1               1  22674   \n",
              "\n",
              "   student_worksheet_id  worksheet_problem_id   result      update_datetime  \\\n",
              "0               6915137             146873314  CORRECT  2020-10-25 15:08:06   \n",
              "1               6915136             146873314  CORRECT  2020-10-25 15:12:47   \n",
              "2               6915137             146873315    WRONG  2020-10-25 15:08:06   \n",
              "\n",
              "      id_y  worksheet_id_x student_id id_x.1  Unnamed: 0_y     id_y.1  \\\n",
              "0  6915137         5525992      I7951  I7951       1225283  146873314   \n",
              "1  6915136         5525992      I7983  I7983       1225283  146873314   \n",
              "2  6915137         5525992      I7951  I7951       1225284  146873315   \n",
              "\n",
              "   worksheet_id_y  problem_id  \n",
              "0         5525992      252454  \n",
              "1         5525992      252454  \n",
              "2         5525992      252438  "
            ],
            "text/html": [
              "\n",
              "  <div id=\"df-59e516c7-374a-4599-a200-970efa8ac9d4\">\n",
              "    <div class=\"colab-df-container\">\n",
              "      <div>\n",
              "<style scoped>\n",
              "    .dataframe tbody tr th:only-of-type {\n",
              "        vertical-align: middle;\n",
              "    }\n",
              "\n",
              "    .dataframe tbody tr th {\n",
              "        vertical-align: top;\n",
              "    }\n",
              "\n",
              "    .dataframe thead th {\n",
              "        text-align: right;\n",
              "    }\n",
              "</style>\n",
              "<table border=\"1\" class=\"dataframe\">\n",
              "  <thead>\n",
              "    <tr style=\"text-align: right;\">\n",
              "      <th></th>\n",
              "      <th>Unnamed: 0</th>\n",
              "      <th>Unnamed: 0_x</th>\n",
              "      <th>Unnamed: 0.1</th>\n",
              "      <th>Unnamed: 0.1.1</th>\n",
              "      <th>id_x</th>\n",
              "      <th>student_worksheet_id</th>\n",
              "      <th>worksheet_problem_id</th>\n",
              "      <th>result</th>\n",
              "      <th>update_datetime</th>\n",
              "      <th>id_y</th>\n",
              "      <th>worksheet_id_x</th>\n",
              "      <th>student_id</th>\n",
              "      <th>id_x.1</th>\n",
              "      <th>Unnamed: 0_y</th>\n",
              "      <th>id_y.1</th>\n",
              "      <th>worksheet_id_y</th>\n",
              "      <th>problem_id</th>\n",
              "    </tr>\n",
              "  </thead>\n",
              "  <tbody>\n",
              "    <tr>\n",
              "      <th>0</th>\n",
              "      <td>0</td>\n",
              "      <td>0</td>\n",
              "      <td>0</td>\n",
              "      <td>0</td>\n",
              "      <td>22673</td>\n",
              "      <td>6915137</td>\n",
              "      <td>146873314</td>\n",
              "      <td>CORRECT</td>\n",
              "      <td>2020-10-25 15:08:06</td>\n",
              "      <td>6915137</td>\n",
              "      <td>5525992</td>\n",
              "      <td>I7951</td>\n",
              "      <td>I7951</td>\n",
              "      <td>1225283</td>\n",
              "      <td>146873314</td>\n",
              "      <td>5525992</td>\n",
              "      <td>252454</td>\n",
              "    </tr>\n",
              "    <tr>\n",
              "      <th>1</th>\n",
              "      <td>1</td>\n",
              "      <td>6248</td>\n",
              "      <td>11629</td>\n",
              "      <td>11629</td>\n",
              "      <td>83242</td>\n",
              "      <td>6915136</td>\n",
              "      <td>146873314</td>\n",
              "      <td>CORRECT</td>\n",
              "      <td>2020-10-25 15:12:47</td>\n",
              "      <td>6915136</td>\n",
              "      <td>5525992</td>\n",
              "      <td>I7983</td>\n",
              "      <td>I7983</td>\n",
              "      <td>1225283</td>\n",
              "      <td>146873314</td>\n",
              "      <td>5525992</td>\n",
              "      <td>252454</td>\n",
              "    </tr>\n",
              "    <tr>\n",
              "      <th>2</th>\n",
              "      <td>2</td>\n",
              "      <td>1</td>\n",
              "      <td>1</td>\n",
              "      <td>1</td>\n",
              "      <td>22674</td>\n",
              "      <td>6915137</td>\n",
              "      <td>146873315</td>\n",
              "      <td>WRONG</td>\n",
              "      <td>2020-10-25 15:08:06</td>\n",
              "      <td>6915137</td>\n",
              "      <td>5525992</td>\n",
              "      <td>I7951</td>\n",
              "      <td>I7951</td>\n",
              "      <td>1225284</td>\n",
              "      <td>146873315</td>\n",
              "      <td>5525992</td>\n",
              "      <td>252438</td>\n",
              "    </tr>\n",
              "  </tbody>\n",
              "</table>\n",
              "</div>\n",
              "      <button class=\"colab-df-convert\" onclick=\"convertToInteractive('df-59e516c7-374a-4599-a200-970efa8ac9d4')\"\n",
              "              title=\"Convert this dataframe to an interactive table.\"\n",
              "              style=\"display:none;\">\n",
              "        \n",
              "  <svg xmlns=\"http://www.w3.org/2000/svg\" height=\"24px\"viewBox=\"0 0 24 24\"\n",
              "       width=\"24px\">\n",
              "    <path d=\"M0 0h24v24H0V0z\" fill=\"none\"/>\n",
              "    <path d=\"M18.56 5.44l.94 2.06.94-2.06 2.06-.94-2.06-.94-.94-2.06-.94 2.06-2.06.94zm-11 1L8.5 8.5l.94-2.06 2.06-.94-2.06-.94L8.5 2.5l-.94 2.06-2.06.94zm10 10l.94 2.06.94-2.06 2.06-.94-2.06-.94-.94-2.06-.94 2.06-2.06.94z\"/><path d=\"M17.41 7.96l-1.37-1.37c-.4-.4-.92-.59-1.43-.59-.52 0-1.04.2-1.43.59L10.3 9.45l-7.72 7.72c-.78.78-.78 2.05 0 2.83L4 21.41c.39.39.9.59 1.41.59.51 0 1.02-.2 1.41-.59l7.78-7.78 2.81-2.81c.8-.78.8-2.07 0-2.86zM5.41 20L4 18.59l7.72-7.72 1.47 1.35L5.41 20z\"/>\n",
              "  </svg>\n",
              "      </button>\n",
              "      \n",
              "  <style>\n",
              "    .colab-df-container {\n",
              "      display:flex;\n",
              "      flex-wrap:wrap;\n",
              "      gap: 12px;\n",
              "    }\n",
              "\n",
              "    .colab-df-convert {\n",
              "      background-color: #E8F0FE;\n",
              "      border: none;\n",
              "      border-radius: 50%;\n",
              "      cursor: pointer;\n",
              "      display: none;\n",
              "      fill: #1967D2;\n",
              "      height: 32px;\n",
              "      padding: 0 0 0 0;\n",
              "      width: 32px;\n",
              "    }\n",
              "\n",
              "    .colab-df-convert:hover {\n",
              "      background-color: #E2EBFA;\n",
              "      box-shadow: 0px 1px 2px rgba(60, 64, 67, 0.3), 0px 1px 3px 1px rgba(60, 64, 67, 0.15);\n",
              "      fill: #174EA6;\n",
              "    }\n",
              "\n",
              "    [theme=dark] .colab-df-convert {\n",
              "      background-color: #3B4455;\n",
              "      fill: #D2E3FC;\n",
              "    }\n",
              "\n",
              "    [theme=dark] .colab-df-convert:hover {\n",
              "      background-color: #434B5C;\n",
              "      box-shadow: 0px 1px 3px 1px rgba(0, 0, 0, 0.15);\n",
              "      filter: drop-shadow(0px 1px 2px rgba(0, 0, 0, 0.3));\n",
              "      fill: #FFFFFF;\n",
              "    }\n",
              "  </style>\n",
              "\n",
              "      <script>\n",
              "        const buttonEl =\n",
              "          document.querySelector('#df-59e516c7-374a-4599-a200-970efa8ac9d4 button.colab-df-convert');\n",
              "        buttonEl.style.display =\n",
              "          google.colab.kernel.accessAllowed ? 'block' : 'none';\n",
              "\n",
              "        async function convertToInteractive(key) {\n",
              "          const element = document.querySelector('#df-59e516c7-374a-4599-a200-970efa8ac9d4');\n",
              "          const dataTable =\n",
              "            await google.colab.kernel.invokeFunction('convertToInteractive',\n",
              "                                                     [key], {});\n",
              "          if (!dataTable) return;\n",
              "\n",
              "          const docLinkHtml = 'Like what you see? Visit the ' +\n",
              "            '<a target=\"_blank\" href=https://colab.research.google.com/notebooks/data_table.ipynb>data table notebook</a>'\n",
              "            + ' to learn more about interactive tables.';\n",
              "          element.innerHTML = '';\n",
              "          dataTable['output_type'] = 'display_data';\n",
              "          await google.colab.output.renderOutput(dataTable, element);\n",
              "          const docLink = document.createElement('div');\n",
              "          docLink.innerHTML = docLinkHtml;\n",
              "          element.appendChild(docLink);\n",
              "        }\n",
              "      </script>\n",
              "    </div>\n",
              "  </div>\n",
              "  "
            ]
          },
          "metadata": {},
          "execution_count": 9
        }
      ]
    },
    {
      "cell_type": "code",
      "source": [
        "merge3.columns"
      ],
      "metadata": {
        "colab": {
          "base_uri": "https://localhost:8080/"
        },
        "id": "kDAWi5DoHsEE",
        "outputId": "53080e08-30ec-4ef6-b633-f74896687946"
      },
      "execution_count": null,
      "outputs": [
        {
          "output_type": "execute_result",
          "data": {
            "text/plain": [
              "Index(['Unnamed: 0', 'Unnamed: 0_x', 'Unnamed: 0.1', 'Unnamed: 0.1.1', 'id_x',\n",
              "       'student_worksheet_id', 'worksheet_problem_id', 'result',\n",
              "       'update_datetime', 'id_y', 'worksheet_id_x', 'student_id', 'id_x.1',\n",
              "       'Unnamed: 0_y', 'id_y.1', 'worksheet_id_y', 'problem_id'],\n",
              "      dtype='object')"
            ]
          },
          "metadata": {},
          "execution_count": 10
        }
      ]
    },
    {
      "cell_type": "code",
      "source": [
        "merge3 = merge3[['id_x', 'student_worksheet_id', 'worksheet_problem_id', 'result', 'update_datetime', 'student_id', 'worksheet_id_y', 'problem_id']]       "
      ],
      "metadata": {
        "id": "Wq_oaBjcHn2U"
      },
      "execution_count": null,
      "outputs": []
    },
    {
      "cell_type": "code",
      "source": [
        "merge3.info()"
      ],
      "metadata": {
        "colab": {
          "base_uri": "https://localhost:8080/"
        },
        "id": "W352IIg1IWyF",
        "outputId": "f277ea64-1162-437c-87a0-78d8e37c1ae5"
      },
      "execution_count": null,
      "outputs": [
        {
          "output_type": "stream",
          "name": "stdout",
          "text": [
            "<class 'pandas.core.frame.DataFrame'>\n",
            "RangeIndex: 11859751 entries, 0 to 11859750\n",
            "Data columns (total 8 columns):\n",
            " #   Column                Dtype \n",
            "---  ------                ----- \n",
            " 0   id_x                  int64 \n",
            " 1   student_worksheet_id  int64 \n",
            " 2   worksheet_problem_id  int64 \n",
            " 3   result                object\n",
            " 4   update_datetime       object\n",
            " 5   student_id            object\n",
            " 6   worksheet_id_y        int64 \n",
            " 7   problem_id            int64 \n",
            "dtypes: int64(5), object(3)\n",
            "memory usage: 723.9+ MB\n"
          ]
        }
      ]
    },
    {
      "cell_type": "code",
      "source": [
        "merge4 = pd.merge(merge3,w,left_on='worksheet_id_y',right_on='id',how='inner')"
      ],
      "metadata": {
        "id": "pu8xMD05uZIz"
      },
      "execution_count": null,
      "outputs": []
    },
    {
      "cell_type": "code",
      "source": [
        "merge4.info()"
      ],
      "metadata": {
        "colab": {
          "base_uri": "https://localhost:8080/"
        },
        "id": "UJBIYO83umkh",
        "outputId": "b96737af-a708-4ca6-de18-771ccea42c83"
      },
      "execution_count": null,
      "outputs": [
        {
          "output_type": "stream",
          "name": "stdout",
          "text": [
            "<class 'pandas.core.frame.DataFrame'>\n",
            "Int64Index: 11859751 entries, 0 to 11859750\n",
            "Data columns (total 16 columns):\n",
            " #   Column                Dtype \n",
            "---  ------                ----- \n",
            " 0   id_x                  int64 \n",
            " 1   student_worksheet_id  int64 \n",
            " 2   worksheet_problem_id  int64 \n",
            " 3   result                object\n",
            " 4   update_datetime       object\n",
            " 5   student_id            object\n",
            " 6   worksheet_id_y        int64 \n",
            " 7   problem_id            int64 \n",
            " 8   Unnamed: 0            int64 \n",
            " 9   id                    int64 \n",
            " 10  type                  int64 \n",
            " 11  school                int64 \n",
            " 12  grade                 object\n",
            " 13  level                 int64 \n",
            " 14  delete_flag           int64 \n",
            " 15  create_datetime       object\n",
            "dtypes: int64(11), object(5)\n",
            "memory usage: 1.5+ GB\n"
          ]
        }
      ]
    },
    {
      "cell_type": "code",
      "source": [
        "merge4.head(3)"
      ],
      "metadata": {
        "colab": {
          "base_uri": "https://localhost:8080/",
          "height": 277
        },
        "id": "Fb0B_hBTIgRD",
        "outputId": "756de185-4c42-4f38-cb19-442db38b1604"
      },
      "execution_count": null,
      "outputs": [
        {
          "output_type": "execute_result",
          "data": {
            "text/plain": [
              "    id_x  student_worksheet_id  worksheet_problem_id   result  \\\n",
              "0  22673               6915137             146873314  CORRECT   \n",
              "1  83242               6915136             146873314  CORRECT   \n",
              "2  22674               6915137             146873315    WRONG   \n",
              "\n",
              "       update_datetime student_id  worksheet_id_y  problem_id  Unnamed: 0  \\\n",
              "0  2020-10-25 15:08:06      I7951         5525992      252454       36035   \n",
              "1  2020-10-25 15:12:47      I7983         5525992      252454       36035   \n",
              "2  2020-10-25 15:08:06      I7951         5525992      252438       36035   \n",
              "\n",
              "        id  type  school    grade  level  delete_flag      create_datetime  \n",
              "0  5525992     0       3  고등수학(상)      3            0  2020-10-13 18:32:57  \n",
              "1  5525992     0       3  고등수학(상)      3            0  2020-10-13 18:32:57  \n",
              "2  5525992     0       3  고등수학(상)      3            0  2020-10-13 18:32:57  "
            ],
            "text/html": [
              "\n",
              "  <div id=\"df-31bef61e-a0bb-4323-b2d2-254c75169a4e\">\n",
              "    <div class=\"colab-df-container\">\n",
              "      <div>\n",
              "<style scoped>\n",
              "    .dataframe tbody tr th:only-of-type {\n",
              "        vertical-align: middle;\n",
              "    }\n",
              "\n",
              "    .dataframe tbody tr th {\n",
              "        vertical-align: top;\n",
              "    }\n",
              "\n",
              "    .dataframe thead th {\n",
              "        text-align: right;\n",
              "    }\n",
              "</style>\n",
              "<table border=\"1\" class=\"dataframe\">\n",
              "  <thead>\n",
              "    <tr style=\"text-align: right;\">\n",
              "      <th></th>\n",
              "      <th>id_x</th>\n",
              "      <th>student_worksheet_id</th>\n",
              "      <th>worksheet_problem_id</th>\n",
              "      <th>result</th>\n",
              "      <th>update_datetime</th>\n",
              "      <th>student_id</th>\n",
              "      <th>worksheet_id_y</th>\n",
              "      <th>problem_id</th>\n",
              "      <th>Unnamed: 0</th>\n",
              "      <th>id</th>\n",
              "      <th>type</th>\n",
              "      <th>school</th>\n",
              "      <th>grade</th>\n",
              "      <th>level</th>\n",
              "      <th>delete_flag</th>\n",
              "      <th>create_datetime</th>\n",
              "    </tr>\n",
              "  </thead>\n",
              "  <tbody>\n",
              "    <tr>\n",
              "      <th>0</th>\n",
              "      <td>22673</td>\n",
              "      <td>6915137</td>\n",
              "      <td>146873314</td>\n",
              "      <td>CORRECT</td>\n",
              "      <td>2020-10-25 15:08:06</td>\n",
              "      <td>I7951</td>\n",
              "      <td>5525992</td>\n",
              "      <td>252454</td>\n",
              "      <td>36035</td>\n",
              "      <td>5525992</td>\n",
              "      <td>0</td>\n",
              "      <td>3</td>\n",
              "      <td>고등수학(상)</td>\n",
              "      <td>3</td>\n",
              "      <td>0</td>\n",
              "      <td>2020-10-13 18:32:57</td>\n",
              "    </tr>\n",
              "    <tr>\n",
              "      <th>1</th>\n",
              "      <td>83242</td>\n",
              "      <td>6915136</td>\n",
              "      <td>146873314</td>\n",
              "      <td>CORRECT</td>\n",
              "      <td>2020-10-25 15:12:47</td>\n",
              "      <td>I7983</td>\n",
              "      <td>5525992</td>\n",
              "      <td>252454</td>\n",
              "      <td>36035</td>\n",
              "      <td>5525992</td>\n",
              "      <td>0</td>\n",
              "      <td>3</td>\n",
              "      <td>고등수학(상)</td>\n",
              "      <td>3</td>\n",
              "      <td>0</td>\n",
              "      <td>2020-10-13 18:32:57</td>\n",
              "    </tr>\n",
              "    <tr>\n",
              "      <th>2</th>\n",
              "      <td>22674</td>\n",
              "      <td>6915137</td>\n",
              "      <td>146873315</td>\n",
              "      <td>WRONG</td>\n",
              "      <td>2020-10-25 15:08:06</td>\n",
              "      <td>I7951</td>\n",
              "      <td>5525992</td>\n",
              "      <td>252438</td>\n",
              "      <td>36035</td>\n",
              "      <td>5525992</td>\n",
              "      <td>0</td>\n",
              "      <td>3</td>\n",
              "      <td>고등수학(상)</td>\n",
              "      <td>3</td>\n",
              "      <td>0</td>\n",
              "      <td>2020-10-13 18:32:57</td>\n",
              "    </tr>\n",
              "  </tbody>\n",
              "</table>\n",
              "</div>\n",
              "      <button class=\"colab-df-convert\" onclick=\"convertToInteractive('df-31bef61e-a0bb-4323-b2d2-254c75169a4e')\"\n",
              "              title=\"Convert this dataframe to an interactive table.\"\n",
              "              style=\"display:none;\">\n",
              "        \n",
              "  <svg xmlns=\"http://www.w3.org/2000/svg\" height=\"24px\"viewBox=\"0 0 24 24\"\n",
              "       width=\"24px\">\n",
              "    <path d=\"M0 0h24v24H0V0z\" fill=\"none\"/>\n",
              "    <path d=\"M18.56 5.44l.94 2.06.94-2.06 2.06-.94-2.06-.94-.94-2.06-.94 2.06-2.06.94zm-11 1L8.5 8.5l.94-2.06 2.06-.94-2.06-.94L8.5 2.5l-.94 2.06-2.06.94zm10 10l.94 2.06.94-2.06 2.06-.94-2.06-.94-.94-2.06-.94 2.06-2.06.94z\"/><path d=\"M17.41 7.96l-1.37-1.37c-.4-.4-.92-.59-1.43-.59-.52 0-1.04.2-1.43.59L10.3 9.45l-7.72 7.72c-.78.78-.78 2.05 0 2.83L4 21.41c.39.39.9.59 1.41.59.51 0 1.02-.2 1.41-.59l7.78-7.78 2.81-2.81c.8-.78.8-2.07 0-2.86zM5.41 20L4 18.59l7.72-7.72 1.47 1.35L5.41 20z\"/>\n",
              "  </svg>\n",
              "      </button>\n",
              "      \n",
              "  <style>\n",
              "    .colab-df-container {\n",
              "      display:flex;\n",
              "      flex-wrap:wrap;\n",
              "      gap: 12px;\n",
              "    }\n",
              "\n",
              "    .colab-df-convert {\n",
              "      background-color: #E8F0FE;\n",
              "      border: none;\n",
              "      border-radius: 50%;\n",
              "      cursor: pointer;\n",
              "      display: none;\n",
              "      fill: #1967D2;\n",
              "      height: 32px;\n",
              "      padding: 0 0 0 0;\n",
              "      width: 32px;\n",
              "    }\n",
              "\n",
              "    .colab-df-convert:hover {\n",
              "      background-color: #E2EBFA;\n",
              "      box-shadow: 0px 1px 2px rgba(60, 64, 67, 0.3), 0px 1px 3px 1px rgba(60, 64, 67, 0.15);\n",
              "      fill: #174EA6;\n",
              "    }\n",
              "\n",
              "    [theme=dark] .colab-df-convert {\n",
              "      background-color: #3B4455;\n",
              "      fill: #D2E3FC;\n",
              "    }\n",
              "\n",
              "    [theme=dark] .colab-df-convert:hover {\n",
              "      background-color: #434B5C;\n",
              "      box-shadow: 0px 1px 3px 1px rgba(0, 0, 0, 0.15);\n",
              "      filter: drop-shadow(0px 1px 2px rgba(0, 0, 0, 0.3));\n",
              "      fill: #FFFFFF;\n",
              "    }\n",
              "  </style>\n",
              "\n",
              "      <script>\n",
              "        const buttonEl =\n",
              "          document.querySelector('#df-31bef61e-a0bb-4323-b2d2-254c75169a4e button.colab-df-convert');\n",
              "        buttonEl.style.display =\n",
              "          google.colab.kernel.accessAllowed ? 'block' : 'none';\n",
              "\n",
              "        async function convertToInteractive(key) {\n",
              "          const element = document.querySelector('#df-31bef61e-a0bb-4323-b2d2-254c75169a4e');\n",
              "          const dataTable =\n",
              "            await google.colab.kernel.invokeFunction('convertToInteractive',\n",
              "                                                     [key], {});\n",
              "          if (!dataTable) return;\n",
              "\n",
              "          const docLinkHtml = 'Like what you see? Visit the ' +\n",
              "            '<a target=\"_blank\" href=https://colab.research.google.com/notebooks/data_table.ipynb>data table notebook</a>'\n",
              "            + ' to learn more about interactive tables.';\n",
              "          element.innerHTML = '';\n",
              "          dataTable['output_type'] = 'display_data';\n",
              "          await google.colab.output.renderOutput(dataTable, element);\n",
              "          const docLink = document.createElement('div');\n",
              "          docLink.innerHTML = docLinkHtml;\n",
              "          element.appendChild(docLink);\n",
              "        }\n",
              "      </script>\n",
              "    </div>\n",
              "  </div>\n",
              "  "
            ]
          },
          "metadata": {},
          "execution_count": 17
        }
      ]
    },
    {
      "cell_type": "code",
      "source": [
        "merge4.columns"
      ],
      "metadata": {
        "colab": {
          "base_uri": "https://localhost:8080/"
        },
        "id": "T15lGNhLveOa",
        "outputId": "86fa45d0-b756-498b-aba8-0aef25d3e045"
      },
      "execution_count": null,
      "outputs": [
        {
          "output_type": "execute_result",
          "data": {
            "text/plain": [
              "Index(['id_x', 'student_worksheet_id', 'worksheet_problem_id', 'result',\n",
              "       'update_datetime', 'student_id', 'worksheet_id_y', 'problem_id',\n",
              "       'Unnamed: 0', 'id', 'type', 'school', 'grade', 'level', 'delete_flag',\n",
              "       'create_datetime'],\n",
              "      dtype='object')"
            ]
          },
          "metadata": {},
          "execution_count": 18
        }
      ]
    },
    {
      "cell_type": "code",
      "source": [
        "merge4 = merge4[['id_x','student_worksheet_id','worksheet_problem_id','result','update_datetime',\n",
        "                 'student_id','worksheet_id_y','problem_id','type','school','grade','level']]"
      ],
      "metadata": {
        "id": "1-RZh05yIo30"
      },
      "execution_count": null,
      "outputs": []
    },
    {
      "cell_type": "code",
      "source": [
        "merge4.info()"
      ],
      "metadata": {
        "colab": {
          "base_uri": "https://localhost:8080/"
        },
        "id": "5PE4X9kYv-hr",
        "outputId": "0de80b3e-d5db-44e3-e661-9e5dccc532a3"
      },
      "execution_count": null,
      "outputs": [
        {
          "output_type": "stream",
          "name": "stdout",
          "text": [
            "<class 'pandas.core.frame.DataFrame'>\n",
            "Int64Index: 11859751 entries, 0 to 11859750\n",
            "Data columns (total 12 columns):\n",
            " #   Column                Dtype \n",
            "---  ------                ----- \n",
            " 0   id_x                  int64 \n",
            " 1   student_worksheet_id  int64 \n",
            " 2   worksheet_problem_id  int64 \n",
            " 3   result                object\n",
            " 4   update_datetime       object\n",
            " 5   student_id            object\n",
            " 6   worksheet_id_y        int64 \n",
            " 7   problem_id            int64 \n",
            " 8   type                  int64 \n",
            " 9   school                int64 \n",
            " 10  grade                 object\n",
            " 11  level                 int64 \n",
            "dtypes: int64(8), object(4)\n",
            "memory usage: 1.1+ GB\n"
          ]
        }
      ]
    },
    {
      "cell_type": "code",
      "source": [
        "merge4.to_csv('merge4.csv')"
      ],
      "metadata": {
        "id": "i88COQRlwBXV"
      },
      "execution_count": null,
      "outputs": []
    },
    {
      "cell_type": "code",
      "source": [],
      "metadata": {
        "id": "Rr9W0b7PwTxr"
      },
      "execution_count": null,
      "outputs": []
    },
    {
      "cell_type": "code",
      "source": [],
      "metadata": {
        "id": "1-Yq69C7wT0G"
      },
      "execution_count": null,
      "outputs": []
    },
    {
      "cell_type": "markdown",
      "source": [
        "## merge4 + problem = merge5"
      ],
      "metadata": {
        "id": "792iAVQawnhy"
      }
    },
    {
      "cell_type": "code",
      "source": [
        "p = pd.read_csv('/content/drive/MyDrive/archive/sql_2_csv/problem.csv')"
      ],
      "metadata": {
        "id": "hvIAMOIiwsli"
      },
      "execution_count": null,
      "outputs": []
    },
    {
      "cell_type": "code",
      "source": [
        "merge4 = pd.read_csv('/content/merge4.csv')"
      ],
      "metadata": {
        "id": "qDZ5OkWhyYTV"
      },
      "execution_count": null,
      "outputs": []
    },
    {
      "cell_type": "code",
      "source": [
        "p.info()"
      ],
      "metadata": {
        "colab": {
          "base_uri": "https://localhost:8080/"
        },
        "id": "61alBi5qwsor",
        "outputId": "14656771-b5a4-45cb-9d0a-d1ff769a9b02"
      },
      "execution_count": null,
      "outputs": [
        {
          "output_type": "stream",
          "name": "stdout",
          "text": [
            "<class 'pandas.core.frame.DataFrame'>\n",
            "RangeIndex: 637528 entries, 0 to 637527\n",
            "Data columns (total 9 columns):\n",
            " #   Column              Non-Null Count   Dtype  \n",
            "---  ------              --------------   -----  \n",
            " 0   Unnamed: 0          637528 non-null  int64  \n",
            " 1   id                  637528 non-null  int64  \n",
            " 2   problem_concept_id  637528 non-null  int64  \n",
            " 3   group_code          202578 non-null  float64\n",
            " 4   level               637528 non-null  int64  \n",
            " 5   type                637528 non-null  int64  \n",
            " 6   correct_rate        637528 non-null  float64\n",
            " 7   create_datetime     637528 non-null  object \n",
            " 8   update_datetime     637528 non-null  object \n",
            "dtypes: float64(2), int64(5), object(2)\n",
            "memory usage: 43.8+ MB\n"
          ]
        }
      ]
    },
    {
      "cell_type": "code",
      "source": [
        "merge4.info()"
      ],
      "metadata": {
        "colab": {
          "base_uri": "https://localhost:8080/"
        },
        "id": "TK24bnnjwsry",
        "outputId": "a4b4cbd8-0630-436f-ed8e-7ad912a1c9f6"
      },
      "execution_count": null,
      "outputs": [
        {
          "output_type": "stream",
          "name": "stdout",
          "text": [
            "<class 'pandas.core.frame.DataFrame'>\n",
            "Int64Index: 11859751 entries, 0 to 11859750\n",
            "Data columns (total 12 columns):\n",
            " #   Column                Dtype \n",
            "---  ------                ----- \n",
            " 0   id_x                  int64 \n",
            " 1   student_worksheet_id  int64 \n",
            " 2   worksheet_problem_id  int64 \n",
            " 3   result                object\n",
            " 4   update_datetime       object\n",
            " 5   student_id            object\n",
            " 6   worksheet_id_y        int64 \n",
            " 7   problem_id            int64 \n",
            " 8   type                  int64 \n",
            " 9   school                int64 \n",
            " 10  grade                 object\n",
            " 11  level                 int64 \n",
            "dtypes: int64(8), object(4)\n",
            "memory usage: 1.1+ GB\n"
          ]
        }
      ]
    },
    {
      "cell_type": "code",
      "source": [
        "merge5 = pd.merge(merge4,p,left_on='problem_id',right_on='id',how='inner')"
      ],
      "metadata": {
        "id": "MKkTiwYawsvH"
      },
      "execution_count": null,
      "outputs": []
    },
    {
      "cell_type": "code",
      "source": [
        "merge5.info()"
      ],
      "metadata": {
        "colab": {
          "base_uri": "https://localhost:8080/"
        },
        "id": "SKHRDTSlws2N",
        "outputId": "8280f8d1-c911-4ee6-d576-d28a357008d1"
      },
      "execution_count": null,
      "outputs": [
        {
          "output_type": "stream",
          "name": "stdout",
          "text": [
            "<class 'pandas.core.frame.DataFrame'>\n",
            "Int64Index: 11859751 entries, 0 to 11859750\n",
            "Data columns (total 22 columns):\n",
            " #   Column                Dtype  \n",
            "---  ------                -----  \n",
            " 0   Unnamed: 0_x          int64  \n",
            " 1   id_x                  int64  \n",
            " 2   student_worksheet_id  int64  \n",
            " 3   worksheet_problem_id  int64  \n",
            " 4   result                object \n",
            " 5   update_datetime_x     object \n",
            " 6   student_id            object \n",
            " 7   worksheet_id_y        int64  \n",
            " 8   problem_id            int64  \n",
            " 9   type_x                int64  \n",
            " 10  school                int64  \n",
            " 11  grade                 object \n",
            " 12  level_x               int64  \n",
            " 13  Unnamed: 0_y          int64  \n",
            " 14  id                    int64  \n",
            " 15  problem_concept_id    int64  \n",
            " 16  group_code            float64\n",
            " 17  level_y               int64  \n",
            " 18  type_y                int64  \n",
            " 19  correct_rate          float64\n",
            " 20  create_datetime       object \n",
            " 21  update_datetime_y     object \n",
            "dtypes: float64(2), int64(14), object(6)\n",
            "memory usage: 2.0+ GB\n"
          ]
        }
      ]
    },
    {
      "cell_type": "code",
      "source": [
        "merge5.head(3)"
      ],
      "metadata": {
        "colab": {
          "base_uri": "https://localhost:8080/",
          "height": 254
        },
        "id": "qjzJp8R3KU1x",
        "outputId": "7f7efc3d-9d27-49e5-949d-b0223f4ae914"
      },
      "execution_count": null,
      "outputs": [
        {
          "output_type": "execute_result",
          "data": {
            "text/plain": [
              "    id_x  student_worksheet_id  worksheet_problem_id   result  \\\n",
              "0  22673               6915137             146873314  CORRECT   \n",
              "1  83242               6915136             146873314  CORRECT   \n",
              "2  23143               6931764             147305089  CORRECT   \n",
              "\n",
              "     update_datetime_x student_id  worksheet_id_y  problem_id  type_x  school  \\\n",
              "0  2020-10-25 15:08:06      I7951         5525992      252454       0       3   \n",
              "1  2020-10-25 15:12:47      I7983         5525992      252454       0       3   \n",
              "2  2020-10-15 20:19:03      I7951         5540742      252454       0       3   \n",
              "\n",
              "   ... level_x  Unnamed: 0      id  problem_concept_id  group_code  level_y  \\\n",
              "0  ...       3      207602  252454                7471      2010.0        2   \n",
              "1  ...       3      207602  252454                7471      2010.0        2   \n",
              "2  ...       3      207602  252454                7471      2010.0        2   \n",
              "\n",
              "   type_y  correct_rate      create_datetime    update_datetime_y  \n",
              "0       2       78.2441  2021-10-26 00:21:13  2021-10-26 20:36:53  \n",
              "1       2       78.2441  2021-10-26 00:21:13  2021-10-26 20:36:53  \n",
              "2       2       78.2441  2021-10-26 00:21:13  2021-10-26 20:36:53  \n",
              "\n",
              "[3 rows x 21 columns]"
            ],
            "text/html": [
              "\n",
              "  <div id=\"df-7372672d-b1b9-492a-91f6-5fa679b9df79\">\n",
              "    <div class=\"colab-df-container\">\n",
              "      <div>\n",
              "<style scoped>\n",
              "    .dataframe tbody tr th:only-of-type {\n",
              "        vertical-align: middle;\n",
              "    }\n",
              "\n",
              "    .dataframe tbody tr th {\n",
              "        vertical-align: top;\n",
              "    }\n",
              "\n",
              "    .dataframe thead th {\n",
              "        text-align: right;\n",
              "    }\n",
              "</style>\n",
              "<table border=\"1\" class=\"dataframe\">\n",
              "  <thead>\n",
              "    <tr style=\"text-align: right;\">\n",
              "      <th></th>\n",
              "      <th>id_x</th>\n",
              "      <th>student_worksheet_id</th>\n",
              "      <th>worksheet_problem_id</th>\n",
              "      <th>result</th>\n",
              "      <th>update_datetime_x</th>\n",
              "      <th>student_id</th>\n",
              "      <th>worksheet_id_y</th>\n",
              "      <th>problem_id</th>\n",
              "      <th>type_x</th>\n",
              "      <th>school</th>\n",
              "      <th>...</th>\n",
              "      <th>level_x</th>\n",
              "      <th>Unnamed: 0</th>\n",
              "      <th>id</th>\n",
              "      <th>problem_concept_id</th>\n",
              "      <th>group_code</th>\n",
              "      <th>level_y</th>\n",
              "      <th>type_y</th>\n",
              "      <th>correct_rate</th>\n",
              "      <th>create_datetime</th>\n",
              "      <th>update_datetime_y</th>\n",
              "    </tr>\n",
              "  </thead>\n",
              "  <tbody>\n",
              "    <tr>\n",
              "      <th>0</th>\n",
              "      <td>22673</td>\n",
              "      <td>6915137</td>\n",
              "      <td>146873314</td>\n",
              "      <td>CORRECT</td>\n",
              "      <td>2020-10-25 15:08:06</td>\n",
              "      <td>I7951</td>\n",
              "      <td>5525992</td>\n",
              "      <td>252454</td>\n",
              "      <td>0</td>\n",
              "      <td>3</td>\n",
              "      <td>...</td>\n",
              "      <td>3</td>\n",
              "      <td>207602</td>\n",
              "      <td>252454</td>\n",
              "      <td>7471</td>\n",
              "      <td>2010.0</td>\n",
              "      <td>2</td>\n",
              "      <td>2</td>\n",
              "      <td>78.2441</td>\n",
              "      <td>2021-10-26 00:21:13</td>\n",
              "      <td>2021-10-26 20:36:53</td>\n",
              "    </tr>\n",
              "    <tr>\n",
              "      <th>1</th>\n",
              "      <td>83242</td>\n",
              "      <td>6915136</td>\n",
              "      <td>146873314</td>\n",
              "      <td>CORRECT</td>\n",
              "      <td>2020-10-25 15:12:47</td>\n",
              "      <td>I7983</td>\n",
              "      <td>5525992</td>\n",
              "      <td>252454</td>\n",
              "      <td>0</td>\n",
              "      <td>3</td>\n",
              "      <td>...</td>\n",
              "      <td>3</td>\n",
              "      <td>207602</td>\n",
              "      <td>252454</td>\n",
              "      <td>7471</td>\n",
              "      <td>2010.0</td>\n",
              "      <td>2</td>\n",
              "      <td>2</td>\n",
              "      <td>78.2441</td>\n",
              "      <td>2021-10-26 00:21:13</td>\n",
              "      <td>2021-10-26 20:36:53</td>\n",
              "    </tr>\n",
              "    <tr>\n",
              "      <th>2</th>\n",
              "      <td>23143</td>\n",
              "      <td>6931764</td>\n",
              "      <td>147305089</td>\n",
              "      <td>CORRECT</td>\n",
              "      <td>2020-10-15 20:19:03</td>\n",
              "      <td>I7951</td>\n",
              "      <td>5540742</td>\n",
              "      <td>252454</td>\n",
              "      <td>0</td>\n",
              "      <td>3</td>\n",
              "      <td>...</td>\n",
              "      <td>3</td>\n",
              "      <td>207602</td>\n",
              "      <td>252454</td>\n",
              "      <td>7471</td>\n",
              "      <td>2010.0</td>\n",
              "      <td>2</td>\n",
              "      <td>2</td>\n",
              "      <td>78.2441</td>\n",
              "      <td>2021-10-26 00:21:13</td>\n",
              "      <td>2021-10-26 20:36:53</td>\n",
              "    </tr>\n",
              "  </tbody>\n",
              "</table>\n",
              "<p>3 rows × 21 columns</p>\n",
              "</div>\n",
              "      <button class=\"colab-df-convert\" onclick=\"convertToInteractive('df-7372672d-b1b9-492a-91f6-5fa679b9df79')\"\n",
              "              title=\"Convert this dataframe to an interactive table.\"\n",
              "              style=\"display:none;\">\n",
              "        \n",
              "  <svg xmlns=\"http://www.w3.org/2000/svg\" height=\"24px\"viewBox=\"0 0 24 24\"\n",
              "       width=\"24px\">\n",
              "    <path d=\"M0 0h24v24H0V0z\" fill=\"none\"/>\n",
              "    <path d=\"M18.56 5.44l.94 2.06.94-2.06 2.06-.94-2.06-.94-.94-2.06-.94 2.06-2.06.94zm-11 1L8.5 8.5l.94-2.06 2.06-.94-2.06-.94L8.5 2.5l-.94 2.06-2.06.94zm10 10l.94 2.06.94-2.06 2.06-.94-2.06-.94-.94-2.06-.94 2.06-2.06.94z\"/><path d=\"M17.41 7.96l-1.37-1.37c-.4-.4-.92-.59-1.43-.59-.52 0-1.04.2-1.43.59L10.3 9.45l-7.72 7.72c-.78.78-.78 2.05 0 2.83L4 21.41c.39.39.9.59 1.41.59.51 0 1.02-.2 1.41-.59l7.78-7.78 2.81-2.81c.8-.78.8-2.07 0-2.86zM5.41 20L4 18.59l7.72-7.72 1.47 1.35L5.41 20z\"/>\n",
              "  </svg>\n",
              "      </button>\n",
              "      \n",
              "  <style>\n",
              "    .colab-df-container {\n",
              "      display:flex;\n",
              "      flex-wrap:wrap;\n",
              "      gap: 12px;\n",
              "    }\n",
              "\n",
              "    .colab-df-convert {\n",
              "      background-color: #E8F0FE;\n",
              "      border: none;\n",
              "      border-radius: 50%;\n",
              "      cursor: pointer;\n",
              "      display: none;\n",
              "      fill: #1967D2;\n",
              "      height: 32px;\n",
              "      padding: 0 0 0 0;\n",
              "      width: 32px;\n",
              "    }\n",
              "\n",
              "    .colab-df-convert:hover {\n",
              "      background-color: #E2EBFA;\n",
              "      box-shadow: 0px 1px 2px rgba(60, 64, 67, 0.3), 0px 1px 3px 1px rgba(60, 64, 67, 0.15);\n",
              "      fill: #174EA6;\n",
              "    }\n",
              "\n",
              "    [theme=dark] .colab-df-convert {\n",
              "      background-color: #3B4455;\n",
              "      fill: #D2E3FC;\n",
              "    }\n",
              "\n",
              "    [theme=dark] .colab-df-convert:hover {\n",
              "      background-color: #434B5C;\n",
              "      box-shadow: 0px 1px 3px 1px rgba(0, 0, 0, 0.15);\n",
              "      filter: drop-shadow(0px 1px 2px rgba(0, 0, 0, 0.3));\n",
              "      fill: #FFFFFF;\n",
              "    }\n",
              "  </style>\n",
              "\n",
              "      <script>\n",
              "        const buttonEl =\n",
              "          document.querySelector('#df-7372672d-b1b9-492a-91f6-5fa679b9df79 button.colab-df-convert');\n",
              "        buttonEl.style.display =\n",
              "          google.colab.kernel.accessAllowed ? 'block' : 'none';\n",
              "\n",
              "        async function convertToInteractive(key) {\n",
              "          const element = document.querySelector('#df-7372672d-b1b9-492a-91f6-5fa679b9df79');\n",
              "          const dataTable =\n",
              "            await google.colab.kernel.invokeFunction('convertToInteractive',\n",
              "                                                     [key], {});\n",
              "          if (!dataTable) return;\n",
              "\n",
              "          const docLinkHtml = 'Like what you see? Visit the ' +\n",
              "            '<a target=\"_blank\" href=https://colab.research.google.com/notebooks/data_table.ipynb>data table notebook</a>'\n",
              "            + ' to learn more about interactive tables.';\n",
              "          element.innerHTML = '';\n",
              "          dataTable['output_type'] = 'display_data';\n",
              "          await google.colab.output.renderOutput(dataTable, element);\n",
              "          const docLink = document.createElement('div');\n",
              "          docLink.innerHTML = docLinkHtml;\n",
              "          element.appendChild(docLink);\n",
              "        }\n",
              "      </script>\n",
              "    </div>\n",
              "  </div>\n",
              "  "
            ]
          },
          "metadata": {},
          "execution_count": 27
        }
      ]
    },
    {
      "cell_type": "code",
      "source": [
        "merge5.columns"
      ],
      "metadata": {
        "colab": {
          "base_uri": "https://localhost:8080/"
        },
        "id": "U337HHpRLKKM",
        "outputId": "a9c5ae87-9e76-4e38-a944-be8eb69b799f"
      },
      "execution_count": null,
      "outputs": [
        {
          "output_type": "execute_result",
          "data": {
            "text/plain": [
              "Index(['Unnamed: 0_x', 'id_x', 'student_worksheet_id', 'worksheet_problem_id',\n",
              "       'result', 'update_datetime_x', 'student_id', 'worksheet_id_y',\n",
              "       'problem_id', 'type_x', 'school', 'grade', 'level_x', 'Unnamed: 0_y',\n",
              "       'id', 'problem_concept_id', 'group_code', 'level_y', 'type_y',\n",
              "       'correct_rate', 'create_datetime', 'update_datetime_y'],\n",
              "      dtype='object')"
            ]
          },
          "metadata": {},
          "execution_count": 10
        }
      ]
    },
    {
      "cell_type": "code",
      "source": [
        "merge5 = merge5[['id_x', 'student_worksheet_id', 'worksheet_problem_id','result', 'update_datetime_x', 'student_id', 'worksheet_id_y',\n",
        "       'problem_id', 'type_x', 'school', 'grade', 'level_x','problem_concept_id', 'group_code', 'level_y', 'type_y',\n",
        "       'correct_rate']]"
      ],
      "metadata": {
        "id": "wMeR139YLFWw"
      },
      "execution_count": null,
      "outputs": []
    },
    {
      "cell_type": "code",
      "source": [
        "merge5.info()"
      ],
      "metadata": {
        "colab": {
          "base_uri": "https://localhost:8080/"
        },
        "id": "uVXH18z3LheY",
        "outputId": "3bf77b74-bd86-4fa9-9e77-5112fc20059d"
      },
      "execution_count": null,
      "outputs": [
        {
          "output_type": "stream",
          "name": "stdout",
          "text": [
            "<class 'pandas.core.frame.DataFrame'>\n",
            "Int64Index: 11859751 entries, 0 to 11859750\n",
            "Data columns (total 17 columns):\n",
            " #   Column                Dtype  \n",
            "---  ------                -----  \n",
            " 0   id_x                  int64  \n",
            " 1   student_worksheet_id  int64  \n",
            " 2   worksheet_problem_id  int64  \n",
            " 3   result                object \n",
            " 4   update_datetime_x     object \n",
            " 5   student_id            object \n",
            " 6   worksheet_id_y        int64  \n",
            " 7   problem_id            int64  \n",
            " 8   type_x                int64  \n",
            " 9   school                int64  \n",
            " 10  grade                 object \n",
            " 11  level_x               int64  \n",
            " 12  problem_concept_id    int64  \n",
            " 13  group_code            float64\n",
            " 14  level_y               int64  \n",
            " 15  type_y                int64  \n",
            " 16  correct_rate          float64\n",
            "dtypes: float64(2), int64(11), object(4)\n",
            "memory usage: 1.6+ GB\n"
          ]
        }
      ]
    },
    {
      "cell_type": "code",
      "source": [
        "#램다운 merge5 = merge5.rename(columns={'level_x':'worksheet_level'})"
      ],
      "metadata": {
        "id": "RVGJEn3RxxbJ"
      },
      "execution_count": null,
      "outputs": []
    },
    {
      "cell_type": "code",
      "source": [
        "merge5.to_csv('merge5.csv')"
      ],
      "metadata": {
        "id": "-nPDjEhXxdir"
      },
      "execution_count": null,
      "outputs": []
    },
    {
      "cell_type": "markdown",
      "source": [
        "## merge5 + problem_concept = merge6"
      ],
      "metadata": {
        "id": "dJsJRYmrLqD_"
      }
    },
    {
      "cell_type": "code",
      "source": [
        "pc = pd.read_csv('/content/drive/MyDrive/archive/sql_2_csv/problem_concept.csv')"
      ],
      "metadata": {
        "id": "BxX8fJX8yT70"
      },
      "execution_count": null,
      "outputs": []
    },
    {
      "cell_type": "code",
      "source": [
        "merge5 = pd.read_csv('/content/merge5.csv')"
      ],
      "metadata": {
        "id": "5VKxVPqfyUBz"
      },
      "execution_count": null,
      "outputs": []
    },
    {
      "cell_type": "code",
      "source": [
        "pc.info()"
      ],
      "metadata": {
        "colab": {
          "base_uri": "https://localhost:8080/"
        },
        "id": "vLZAnd8pL1Gt",
        "outputId": "90a84a2b-01d5-4cea-bfa6-94598d1403e7"
      },
      "execution_count": null,
      "outputs": [
        {
          "output_type": "stream",
          "name": "stdout",
          "text": [
            "<class 'pandas.core.frame.DataFrame'>\n",
            "RangeIndex: 9044 entries, 0 to 9043\n",
            "Data columns (total 11 columns):\n",
            " #   Column                 Non-Null Count  Dtype  \n",
            "---  ------                 --------------  -----  \n",
            " 0   Unnamed: 0             9044 non-null   int64  \n",
            " 1   id                     9044 non-null   int64  \n",
            " 2   problem_curriculum_id  9044 non-null   int64  \n",
            " 3   school                 9044 non-null   int64  \n",
            " 4   grade                  9044 non-null   int64  \n",
            " 5   semester               9044 non-null   int64  \n",
            " 6   name                   9044 non-null   object \n",
            " 7   sequence               9044 non-null   int64  \n",
            " 8   correct_rate           8849 non-null   float64\n",
            " 9   create_datetime        9044 non-null   object \n",
            " 10  update_datetime        9044 non-null   object \n",
            "dtypes: float64(1), int64(7), object(3)\n",
            "memory usage: 777.3+ KB\n"
          ]
        }
      ]
    },
    {
      "cell_type": "code",
      "source": [
        "merge6 = pd.merge(merge5,pc,left_on='problem_concept_id',right_on='id',how='inner')"
      ],
      "metadata": {
        "id": "m80BIfPZL1I-"
      },
      "execution_count": null,
      "outputs": []
    },
    {
      "cell_type": "code",
      "source": [
        "merge6.info()"
      ],
      "metadata": {
        "colab": {
          "base_uri": "https://localhost:8080/"
        },
        "id": "54d3e4AtL1L2",
        "outputId": "9d21ee0d-c376-4a06-8fc0-01b2c9a25510"
      },
      "execution_count": null,
      "outputs": [
        {
          "output_type": "stream",
          "name": "stdout",
          "text": [
            "<class 'pandas.core.frame.DataFrame'>\n",
            "Int64Index: 11859751 entries, 0 to 11859750\n",
            "Data columns (total 28 columns):\n",
            " #   Column                 Dtype  \n",
            "---  ------                 -----  \n",
            " 0   id_x                   int64  \n",
            " 1   student_worksheet_id   int64  \n",
            " 2   worksheet_problem_id   int64  \n",
            " 3   result                 object \n",
            " 4   update_datetime_x      object \n",
            " 5   student_id             object \n",
            " 6   worksheet_id_y         int64  \n",
            " 7   problem_id             int64  \n",
            " 8   type_x                 int64  \n",
            " 9   school_x               int64  \n",
            " 10  grade_x                object \n",
            " 11  level_x                int64  \n",
            " 12  problem_concept_id     int64  \n",
            " 13  group_code             float64\n",
            " 14  level_y                int64  \n",
            " 15  type_y                 int64  \n",
            " 16  correct_rate_x         float64\n",
            " 17  Unnamed: 0             int64  \n",
            " 18  id                     int64  \n",
            " 19  problem_curriculum_id  int64  \n",
            " 20  school_y               int64  \n",
            " 21  grade_y                int64  \n",
            " 22  semester               int64  \n",
            " 23  name                   object \n",
            " 24  sequence               int64  \n",
            " 25  correct_rate_y         float64\n",
            " 26  create_datetime        object \n",
            " 27  update_datetime        object \n",
            "dtypes: float64(3), int64(18), object(7)\n",
            "memory usage: 2.6+ GB\n"
          ]
        }
      ]
    },
    {
      "cell_type": "code",
      "source": [
        "merge6.to_csv('/content/drive/MyDrive/teamA/merge6.csv')"
      ],
      "metadata": {
        "id": "hVvLL9c7L1OM"
      },
      "execution_count": null,
      "outputs": []
    },
    {
      "cell_type": "code",
      "source": [],
      "metadata": {
        "id": "pD9yoOdJPlr-"
      },
      "execution_count": null,
      "outputs": []
    },
    {
      "cell_type": "markdown",
      "source": [
        "## merge6 + problem_curriculum_concept_cache = merge7"
      ],
      "metadata": {
        "id": "R2wLqCJ8VLiP"
      }
    },
    {
      "cell_type": "code",
      "source": [
        "pccc = pc = pd.read_csv('/content/drive/MyDrive/archive/sql_2_csv/problem_curriculum_concept_cache.csv')"
      ],
      "metadata": {
        "id": "HI_rkMEQPluR"
      },
      "execution_count": null,
      "outputs": []
    },
    {
      "cell_type": "code",
      "source": [
        "merge6 = pd.read_csv('/content/drive/MyDrive/teamA/merge6.csv')"
      ],
      "metadata": {
        "id": "qKzAoX8uPlws"
      },
      "execution_count": null,
      "outputs": []
    },
    {
      "cell_type": "code",
      "source": [
        "pccc.columns"
      ],
      "metadata": {
        "colab": {
          "base_uri": "https://localhost:8080/"
        },
        "id": "HONDZ_-AVpRa",
        "outputId": "2a0f77bb-514e-4460-f13a-b5aebd84d262"
      },
      "execution_count": null,
      "outputs": [
        {
          "output_type": "execute_result",
          "data": {
            "text/plain": [
              "Index(['Unnamed: 0', 'trie_key', 'relation_type', 'relation_id',\n",
              "       'relation_name', 'relation_sequence', 'revision_id', 'revision_name',\n",
              "       'school_id', 'school_name', 'grade_id', 'grade_name', 'semester_id',\n",
              "       'semester_name', 'subject_id', 'subject_name', 'big_chapter_id',\n",
              "       'big_chapter_name', 'middle_chapter_id', 'middle_chapter_name',\n",
              "       'little_chapter_id', 'little_chapter_name', 'concept_id',\n",
              "       'concept_name'],\n",
              "      dtype='object')"
            ]
          },
          "metadata": {},
          "execution_count": 5
        }
      ]
    },
    {
      "cell_type": "code",
      "source": [
        "merge6.columns"
      ],
      "metadata": {
        "id": "1Fyovb1lVp0y",
        "colab": {
          "base_uri": "https://localhost:8080/"
        },
        "outputId": "4fee34cf-db41-4123-c8fa-5a7b24a2febf"
      },
      "execution_count": null,
      "outputs": [
        {
          "output_type": "execute_result",
          "data": {
            "text/plain": [
              "Index(['Unnamed: 0', 'id_x', 'student_worksheet_id', 'worksheet_problem_id',\n",
              "       'result', 'update_datetime_x', 'student_id', 'worksheet_id_y',\n",
              "       'problem_id', 'type_x', 'school_x', 'grade_x', 'level_x',\n",
              "       'problem_concept_id', 'group_code', 'level_y', 'type_y',\n",
              "       'correct_rate_x', 'Unnamed: 0.1', 'id', 'problem_curriculum_id',\n",
              "       'school_y', 'grade_y', 'semester', 'name', 'sequence', 'correct_rate_y',\n",
              "       'create_datetime', 'update_datetime'],\n",
              "      dtype='object')"
            ]
          },
          "metadata": {},
          "execution_count": 6
        }
      ]
    },
    {
      "cell_type": "code",
      "source": [
        "merge7 = pd.merge(merge6,pccc,left_on='problem_curriculum_id',right_on='relation_id',how='inner')"
      ],
      "metadata": {
        "id": "Du3o-Bi6tnOH"
      },
      "execution_count": null,
      "outputs": []
    },
    {
      "cell_type": "code",
      "source": [
        "merge6.info()"
      ],
      "metadata": {
        "colab": {
          "base_uri": "https://localhost:8080/"
        },
        "id": "_5QNbkxrtgRh",
        "outputId": "6b93a76f-c50e-46ab-fdeb-7da49427476e"
      },
      "execution_count": null,
      "outputs": [
        {
          "output_type": "stream",
          "name": "stdout",
          "text": [
            "<class 'pandas.core.frame.DataFrame'>\n",
            "RangeIndex: 11859751 entries, 0 to 11859750\n",
            "Data columns (total 29 columns):\n",
            " #   Column                 Dtype  \n",
            "---  ------                 -----  \n",
            " 0   Unnamed: 0             int64  \n",
            " 1   id_x                   int64  \n",
            " 2   student_worksheet_id   int64  \n",
            " 3   worksheet_problem_id   int64  \n",
            " 4   result                 object \n",
            " 5   update_datetime_x      object \n",
            " 6   student_id             object \n",
            " 7   worksheet_id_y         int64  \n",
            " 8   problem_id             int64  \n",
            " 9   type_x                 int64  \n",
            " 10  school_x               int64  \n",
            " 11  grade_x                object \n",
            " 12  level_x                int64  \n",
            " 13  problem_concept_id     int64  \n",
            " 14  group_code             float64\n",
            " 15  level_y                int64  \n",
            " 16  type_y                 int64  \n",
            " 17  correct_rate_x         float64\n",
            " 18  Unnamed: 0.1           int64  \n",
            " 19  id                     int64  \n",
            " 20  problem_curriculum_id  int64  \n",
            " 21  school_y               int64  \n",
            " 22  grade_y                int64  \n",
            " 23  semester               int64  \n",
            " 24  name                   object \n",
            " 25  sequence               int64  \n",
            " 26  correct_rate_y         float64\n",
            " 27  create_datetime        object \n",
            " 28  update_datetime        object \n",
            "dtypes: float64(3), int64(19), object(7)\n",
            "memory usage: 2.6+ GB\n"
          ]
        }
      ]
    },
    {
      "cell_type": "code",
      "source": [
        "merge7.info()"
      ],
      "metadata": {
        "colab": {
          "base_uri": "https://localhost:8080/"
        },
        "id": "8WSY8LyItxy2",
        "outputId": "fbb7af9a-5ec3-4efc-8bb3-bbb64ab8b568"
      },
      "execution_count": null,
      "outputs": [
        {
          "output_type": "stream",
          "name": "stdout",
          "text": [
            "<class 'pandas.core.frame.DataFrame'>\n",
            "Int64Index: 23719502 entries, 0 to 23719501\n",
            "Data columns (total 53 columns):\n",
            " #   Column                 Dtype  \n",
            "---  ------                 -----  \n",
            " 0   Unnamed: 0_x           int64  \n",
            " 1   id_x                   int64  \n",
            " 2   student_worksheet_id   int64  \n",
            " 3   worksheet_problem_id   int64  \n",
            " 4   result                 object \n",
            " 5   update_datetime_x      object \n",
            " 6   student_id             object \n",
            " 7   worksheet_id_y         int64  \n",
            " 8   problem_id             int64  \n",
            " 9   type_x                 int64  \n",
            " 10  school_x               int64  \n",
            " 11  grade_x                object \n",
            " 12  level_x                int64  \n",
            " 13  problem_concept_id     int64  \n",
            " 14  group_code             float64\n",
            " 15  level_y                int64  \n",
            " 16  type_y                 int64  \n",
            " 17  correct_rate_x         float64\n",
            " 18  Unnamed: 0.1           int64  \n",
            " 19  id                     int64  \n",
            " 20  problem_curriculum_id  int64  \n",
            " 21  school_y               int64  \n",
            " 22  grade_y                int64  \n",
            " 23  semester               int64  \n",
            " 24  name                   object \n",
            " 25  sequence               int64  \n",
            " 26  correct_rate_y         float64\n",
            " 27  create_datetime        object \n",
            " 28  update_datetime        object \n",
            " 29  Unnamed: 0_y           int64  \n",
            " 30  trie_key               object \n",
            " 31  relation_type          object \n",
            " 32  relation_id            int64  \n",
            " 33  relation_name          object \n",
            " 34  relation_sequence      int64  \n",
            " 35  revision_id            float64\n",
            " 36  revision_name          object \n",
            " 37  school_id              float64\n",
            " 38  school_name            object \n",
            " 39  grade_id               float64\n",
            " 40  grade_name             float64\n",
            " 41  semester_id            float64\n",
            " 42  semester_name          float64\n",
            " 43  subject_id             float64\n",
            " 44  subject_name           object \n",
            " 45  big_chapter_id         float64\n",
            " 46  big_chapter_name       object \n",
            " 47  middle_chapter_id      float64\n",
            " 48  middle_chapter_name    object \n",
            " 49  little_chapter_id      float64\n",
            " 50  little_chapter_name    object \n",
            " 51  concept_id             float64\n",
            " 52  concept_name           object \n",
            "dtypes: float64(14), int64(22), object(17)\n",
            "memory usage: 9.5+ GB\n"
          ]
        }
      ]
    },
    {
      "cell_type": "code",
      "source": [
        "merge7.head(3)"
      ],
      "metadata": {
        "colab": {
          "base_uri": "https://localhost:8080/",
          "height": 289
        },
        "id": "8TlOjbtHuCJK",
        "outputId": "58b8074c-dba7-4b64-e82f-a14939bb4f50"
      },
      "execution_count": null,
      "outputs": [
        {
          "output_type": "execute_result",
          "data": {
            "text/plain": [
              "   Unnamed: 0_x   id_x  student_worksheet_id  worksheet_problem_id   result  \\\n",
              "0             0  22673               6915137             146873314  CORRECT   \n",
              "1             0  22673               6915137             146873314  CORRECT   \n",
              "2             1  83242               6915136             146873314  CORRECT   \n",
              "\n",
              "     update_datetime_x student_id  worksheet_id_y  problem_id  type_x  ...  \\\n",
              "0  2020-10-25 15:08:06      I7951         5525992      252454       0  ...   \n",
              "1  2020-10-25 15:08:06      I7951         5525992      252454       0  ...   \n",
              "2  2020-10-25 15:12:47      I7983         5525992      252454       0  ...   \n",
              "\n",
              "   subject_id subject_name  big_chapter_id  big_chapter_name  \\\n",
              "0        41.0      고등수학(상)           369.0           도형의 방정식   \n",
              "1        37.0       미적분 II           408.0            순열과 조합   \n",
              "2        41.0      고등수학(상)           369.0           도형의 방정식   \n",
              "\n",
              "   middle_chapter_id  middle_chapter_name  little_chapter_id  \\\n",
              "0             1009.0               원의 방정식             3316.0   \n",
              "1             1100.0                   순열             3618.0   \n",
              "2             1009.0               원의 방정식             3316.0   \n",
              "\n",
              "   little_chapter_name  concept_id             concept_name  \n",
              "0               원의 방정식         NaN                      NaN  \n",
              "1          같은 것이 있는 순열      3316.0  같은 것이 있는 순열 - 조건이 있는 경우  \n",
              "2               원의 방정식         NaN                      NaN  \n",
              "\n",
              "[3 rows x 53 columns]"
            ],
            "text/html": [
              "\n",
              "  <div id=\"df-3f6c7282-dd04-40aa-95d0-c7e6852a573c\">\n",
              "    <div class=\"colab-df-container\">\n",
              "      <div>\n",
              "<style scoped>\n",
              "    .dataframe tbody tr th:only-of-type {\n",
              "        vertical-align: middle;\n",
              "    }\n",
              "\n",
              "    .dataframe tbody tr th {\n",
              "        vertical-align: top;\n",
              "    }\n",
              "\n",
              "    .dataframe thead th {\n",
              "        text-align: right;\n",
              "    }\n",
              "</style>\n",
              "<table border=\"1\" class=\"dataframe\">\n",
              "  <thead>\n",
              "    <tr style=\"text-align: right;\">\n",
              "      <th></th>\n",
              "      <th>Unnamed: 0_x</th>\n",
              "      <th>id_x</th>\n",
              "      <th>student_worksheet_id</th>\n",
              "      <th>worksheet_problem_id</th>\n",
              "      <th>result</th>\n",
              "      <th>update_datetime_x</th>\n",
              "      <th>student_id</th>\n",
              "      <th>worksheet_id_y</th>\n",
              "      <th>problem_id</th>\n",
              "      <th>type_x</th>\n",
              "      <th>...</th>\n",
              "      <th>subject_id</th>\n",
              "      <th>subject_name</th>\n",
              "      <th>big_chapter_id</th>\n",
              "      <th>big_chapter_name</th>\n",
              "      <th>middle_chapter_id</th>\n",
              "      <th>middle_chapter_name</th>\n",
              "      <th>little_chapter_id</th>\n",
              "      <th>little_chapter_name</th>\n",
              "      <th>concept_id</th>\n",
              "      <th>concept_name</th>\n",
              "    </tr>\n",
              "  </thead>\n",
              "  <tbody>\n",
              "    <tr>\n",
              "      <th>0</th>\n",
              "      <td>0</td>\n",
              "      <td>22673</td>\n",
              "      <td>6915137</td>\n",
              "      <td>146873314</td>\n",
              "      <td>CORRECT</td>\n",
              "      <td>2020-10-25 15:08:06</td>\n",
              "      <td>I7951</td>\n",
              "      <td>5525992</td>\n",
              "      <td>252454</td>\n",
              "      <td>0</td>\n",
              "      <td>...</td>\n",
              "      <td>41.0</td>\n",
              "      <td>고등수학(상)</td>\n",
              "      <td>369.0</td>\n",
              "      <td>도형의 방정식</td>\n",
              "      <td>1009.0</td>\n",
              "      <td>원의 방정식</td>\n",
              "      <td>3316.0</td>\n",
              "      <td>원의 방정식</td>\n",
              "      <td>NaN</td>\n",
              "      <td>NaN</td>\n",
              "    </tr>\n",
              "    <tr>\n",
              "      <th>1</th>\n",
              "      <td>0</td>\n",
              "      <td>22673</td>\n",
              "      <td>6915137</td>\n",
              "      <td>146873314</td>\n",
              "      <td>CORRECT</td>\n",
              "      <td>2020-10-25 15:08:06</td>\n",
              "      <td>I7951</td>\n",
              "      <td>5525992</td>\n",
              "      <td>252454</td>\n",
              "      <td>0</td>\n",
              "      <td>...</td>\n",
              "      <td>37.0</td>\n",
              "      <td>미적분 II</td>\n",
              "      <td>408.0</td>\n",
              "      <td>순열과 조합</td>\n",
              "      <td>1100.0</td>\n",
              "      <td>순열</td>\n",
              "      <td>3618.0</td>\n",
              "      <td>같은 것이 있는 순열</td>\n",
              "      <td>3316.0</td>\n",
              "      <td>같은 것이 있는 순열 - 조건이 있는 경우</td>\n",
              "    </tr>\n",
              "    <tr>\n",
              "      <th>2</th>\n",
              "      <td>1</td>\n",
              "      <td>83242</td>\n",
              "      <td>6915136</td>\n",
              "      <td>146873314</td>\n",
              "      <td>CORRECT</td>\n",
              "      <td>2020-10-25 15:12:47</td>\n",
              "      <td>I7983</td>\n",
              "      <td>5525992</td>\n",
              "      <td>252454</td>\n",
              "      <td>0</td>\n",
              "      <td>...</td>\n",
              "      <td>41.0</td>\n",
              "      <td>고등수학(상)</td>\n",
              "      <td>369.0</td>\n",
              "      <td>도형의 방정식</td>\n",
              "      <td>1009.0</td>\n",
              "      <td>원의 방정식</td>\n",
              "      <td>3316.0</td>\n",
              "      <td>원의 방정식</td>\n",
              "      <td>NaN</td>\n",
              "      <td>NaN</td>\n",
              "    </tr>\n",
              "  </tbody>\n",
              "</table>\n",
              "<p>3 rows × 53 columns</p>\n",
              "</div>\n",
              "      <button class=\"colab-df-convert\" onclick=\"convertToInteractive('df-3f6c7282-dd04-40aa-95d0-c7e6852a573c')\"\n",
              "              title=\"Convert this dataframe to an interactive table.\"\n",
              "              style=\"display:none;\">\n",
              "        \n",
              "  <svg xmlns=\"http://www.w3.org/2000/svg\" height=\"24px\"viewBox=\"0 0 24 24\"\n",
              "       width=\"24px\">\n",
              "    <path d=\"M0 0h24v24H0V0z\" fill=\"none\"/>\n",
              "    <path d=\"M18.56 5.44l.94 2.06.94-2.06 2.06-.94-2.06-.94-.94-2.06-.94 2.06-2.06.94zm-11 1L8.5 8.5l.94-2.06 2.06-.94-2.06-.94L8.5 2.5l-.94 2.06-2.06.94zm10 10l.94 2.06.94-2.06 2.06-.94-2.06-.94-.94-2.06-.94 2.06-2.06.94z\"/><path d=\"M17.41 7.96l-1.37-1.37c-.4-.4-.92-.59-1.43-.59-.52 0-1.04.2-1.43.59L10.3 9.45l-7.72 7.72c-.78.78-.78 2.05 0 2.83L4 21.41c.39.39.9.59 1.41.59.51 0 1.02-.2 1.41-.59l7.78-7.78 2.81-2.81c.8-.78.8-2.07 0-2.86zM5.41 20L4 18.59l7.72-7.72 1.47 1.35L5.41 20z\"/>\n",
              "  </svg>\n",
              "      </button>\n",
              "      \n",
              "  <style>\n",
              "    .colab-df-container {\n",
              "      display:flex;\n",
              "      flex-wrap:wrap;\n",
              "      gap: 12px;\n",
              "    }\n",
              "\n",
              "    .colab-df-convert {\n",
              "      background-color: #E8F0FE;\n",
              "      border: none;\n",
              "      border-radius: 50%;\n",
              "      cursor: pointer;\n",
              "      display: none;\n",
              "      fill: #1967D2;\n",
              "      height: 32px;\n",
              "      padding: 0 0 0 0;\n",
              "      width: 32px;\n",
              "    }\n",
              "\n",
              "    .colab-df-convert:hover {\n",
              "      background-color: #E2EBFA;\n",
              "      box-shadow: 0px 1px 2px rgba(60, 64, 67, 0.3), 0px 1px 3px 1px rgba(60, 64, 67, 0.15);\n",
              "      fill: #174EA6;\n",
              "    }\n",
              "\n",
              "    [theme=dark] .colab-df-convert {\n",
              "      background-color: #3B4455;\n",
              "      fill: #D2E3FC;\n",
              "    }\n",
              "\n",
              "    [theme=dark] .colab-df-convert:hover {\n",
              "      background-color: #434B5C;\n",
              "      box-shadow: 0px 1px 3px 1px rgba(0, 0, 0, 0.15);\n",
              "      filter: drop-shadow(0px 1px 2px rgba(0, 0, 0, 0.3));\n",
              "      fill: #FFFFFF;\n",
              "    }\n",
              "  </style>\n",
              "\n",
              "      <script>\n",
              "        const buttonEl =\n",
              "          document.querySelector('#df-3f6c7282-dd04-40aa-95d0-c7e6852a573c button.colab-df-convert');\n",
              "        buttonEl.style.display =\n",
              "          google.colab.kernel.accessAllowed ? 'block' : 'none';\n",
              "\n",
              "        async function convertToInteractive(key) {\n",
              "          const element = document.querySelector('#df-3f6c7282-dd04-40aa-95d0-c7e6852a573c');\n",
              "          const dataTable =\n",
              "            await google.colab.kernel.invokeFunction('convertToInteractive',\n",
              "                                                     [key], {});\n",
              "          if (!dataTable) return;\n",
              "\n",
              "          const docLinkHtml = 'Like what you see? Visit the ' +\n",
              "            '<a target=\"_blank\" href=https://colab.research.google.com/notebooks/data_table.ipynb>data table notebook</a>'\n",
              "            + ' to learn more about interactive tables.';\n",
              "          element.innerHTML = '';\n",
              "          dataTable['output_type'] = 'display_data';\n",
              "          await google.colab.output.renderOutput(dataTable, element);\n",
              "          const docLink = document.createElement('div');\n",
              "          docLink.innerHTML = docLinkHtml;\n",
              "          element.appendChild(docLink);\n",
              "        }\n",
              "      </script>\n",
              "    </div>\n",
              "  </div>\n",
              "  "
            ]
          },
          "metadata": {},
          "execution_count": 11
        }
      ]
    },
    {
      "cell_type": "code",
      "source": [
        "merge7.columns"
      ],
      "metadata": {
        "colab": {
          "base_uri": "https://localhost:8080/"
        },
        "id": "Mu29I3VLt38p",
        "outputId": "0244bf53-8edb-4225-9459-ba21309c0adc"
      },
      "execution_count": null,
      "outputs": [
        {
          "output_type": "execute_result",
          "data": {
            "text/plain": [
              "Index(['Unnamed: 0_x', 'id_x', 'student_worksheet_id', 'worksheet_problem_id',\n",
              "       'result', 'update_datetime_x', 'student_id', 'worksheet_id_y',\n",
              "       'problem_id', 'type_x', 'school_x', 'grade_x', 'level_x',\n",
              "       'problem_concept_id', 'group_code', 'level_y', 'type_y',\n",
              "       'correct_rate_x', 'Unnamed: 0.1', 'id', 'problem_curriculum_id',\n",
              "       'school_y', 'grade_y', 'semester', 'name', 'sequence', 'correct_rate_y',\n",
              "       'create_datetime', 'update_datetime', 'Unnamed: 0_y', 'trie_key',\n",
              "       'relation_type', 'relation_id', 'relation_name', 'relation_sequence',\n",
              "       'revision_id', 'revision_name', 'school_id', 'school_name', 'grade_id',\n",
              "       'grade_name', 'semester_id', 'semester_name', 'subject_id',\n",
              "       'subject_name', 'big_chapter_id', 'big_chapter_name',\n",
              "       'middle_chapter_id', 'middle_chapter_name', 'little_chapter_id',\n",
              "       'little_chapter_name', 'concept_id', 'concept_name'],\n",
              "      dtype='object')"
            ]
          },
          "metadata": {},
          "execution_count": 10
        }
      ]
    },
    {
      "cell_type": "code",
      "source": [
        "merge7 = merge7[['id_x', 'student_worksheet_id', 'worksheet_problem_id',\n",
        "       'result', 'update_datetime_x', 'student_id', 'worksheet_id_y',\n",
        "       'problem_id', 'type_x', 'school_x', 'grade_x', 'level_x',\n",
        "       'problem_concept_id', 'group_code', 'level_y', 'type_y',\n",
        "       'correct_rate_x','little_chapter_id',\n",
        "       'little_chapter_name']]"
      ],
      "metadata": {
        "id": "44DcWYGvt4K_"
      },
      "execution_count": null,
      "outputs": []
    },
    {
      "cell_type": "code",
      "source": [
        "merge7.info()"
      ],
      "metadata": {
        "colab": {
          "base_uri": "https://localhost:8080/"
        },
        "id": "MvsZ3Wmeuac1",
        "outputId": "ad4c2ce0-971f-47e9-db56-e86a047ed5bd"
      },
      "execution_count": null,
      "outputs": [
        {
          "output_type": "stream",
          "name": "stdout",
          "text": [
            "<class 'pandas.core.frame.DataFrame'>\n",
            "Int64Index: 23719502 entries, 0 to 23719501\n",
            "Data columns (total 19 columns):\n",
            " #   Column                Dtype  \n",
            "---  ------                -----  \n",
            " 0   id_x                  int64  \n",
            " 1   student_worksheet_id  int64  \n",
            " 2   worksheet_problem_id  int64  \n",
            " 3   result                object \n",
            " 4   update_datetime_x     object \n",
            " 5   student_id            object \n",
            " 6   worksheet_id_y        int64  \n",
            " 7   problem_id            int64  \n",
            " 8   type_x                int64  \n",
            " 9   school_x              int64  \n",
            " 10  grade_x               object \n",
            " 11  level_x               int64  \n",
            " 12  problem_concept_id    int64  \n",
            " 13  group_code            float64\n",
            " 14  level_y               int64  \n",
            " 15  type_y                int64  \n",
            " 16  correct_rate_x        float64\n",
            " 17  little_chapter_id     float64\n",
            " 18  little_chapter_name   object \n",
            "dtypes: float64(3), int64(11), object(5)\n",
            "memory usage: 3.5+ GB\n"
          ]
        }
      ]
    },
    {
      "cell_type": "code",
      "source": [
        "merge7.to_csv('/content/drive/MyDrive/teamA/merge7.csv')"
      ],
      "metadata": {
        "id": "T8sx857Etx06"
      },
      "execution_count": null,
      "outputs": []
    },
    {
      "cell_type": "code",
      "source": [],
      "metadata": {
        "id": "whpi-BuTurzk"
      },
      "execution_count": null,
      "outputs": []
    },
    {
      "cell_type": "markdown",
      "source": [
        "## merge6 + pccc_middle_chapter = merge_middle"
      ],
      "metadata": {
        "id": "9o41-T0u3KCy"
      }
    },
    {
      "cell_type": "code",
      "source": [
        "pccc = pc = pd.read_csv('/content/drive/MyDrive/archive/sql_2_csv/problem_curriculum_concept_cache.csv')"
      ],
      "metadata": {
        "id": "d6q_KcQz3KS7"
      },
      "execution_count": null,
      "outputs": []
    },
    {
      "cell_type": "code",
      "source": [
        "merge6 = pd.read_csv('/content/drive/MyDrive/teamA/merge6.csv')"
      ],
      "metadata": {
        "id": "s90odtNf3UIj"
      },
      "execution_count": null,
      "outputs": []
    },
    {
      "cell_type": "code",
      "source": [
        "merge_middle = pd.merge(merge6,pccc,left_on='problem_curriculum_id',right_on='relation_id',how='inner')"
      ],
      "metadata": {
        "id": "LgU7R3S63Z_y"
      },
      "execution_count": null,
      "outputs": []
    },
    {
      "cell_type": "code",
      "source": [
        "merge_middle.columns"
      ],
      "metadata": {
        "colab": {
          "base_uri": "https://localhost:8080/"
        },
        "id": "7AoaCO9u3aCP",
        "outputId": "40ce931e-c489-43b6-af7e-9c5787eaa139"
      },
      "execution_count": null,
      "outputs": [
        {
          "output_type": "execute_result",
          "data": {
            "text/plain": [
              "Index(['Unnamed: 0_x', 'id_x', 'student_worksheet_id', 'worksheet_problem_id',\n",
              "       'result', 'update_datetime_x', 'student_id', 'worksheet_id_y',\n",
              "       'problem_id', 'type_x', 'school_x', 'grade_x', 'level_x',\n",
              "       'problem_concept_id', 'group_code', 'level_y', 'type_y',\n",
              "       'correct_rate_x', 'Unnamed: 0.1', 'id', 'problem_curriculum_id',\n",
              "       'school_y', 'grade_y', 'semester', 'name', 'sequence', 'correct_rate_y',\n",
              "       'create_datetime', 'update_datetime', 'Unnamed: 0_y', 'trie_key',\n",
              "       'relation_type', 'relation_id', 'relation_name', 'relation_sequence',\n",
              "       'revision_id', 'revision_name', 'school_id', 'school_name', 'grade_id',\n",
              "       'grade_name', 'semester_id', 'semester_name', 'subject_id',\n",
              "       'subject_name', 'big_chapter_id', 'big_chapter_name',\n",
              "       'middle_chapter_id', 'middle_chapter_name', 'little_chapter_id',\n",
              "       'little_chapter_name', 'concept_id', 'concept_name'],\n",
              "      dtype='object')"
            ]
          },
          "metadata": {},
          "execution_count": 6
        }
      ]
    },
    {
      "cell_type": "code",
      "source": [
        "merge_middle = merge_middle[['id_x', 'student_worksheet_id', 'worksheet_problem_id',\n",
        "       'result', 'update_datetime_x', 'student_id', 'worksheet_id_y',\n",
        "       'problem_id', 'type_x', 'school_x', 'grade_x', 'level_x',\n",
        "       'problem_concept_id', 'group_code', 'level_y', 'type_y',\n",
        "       'correct_rate_x','middle_chapter_id',\n",
        "       'middle_chapter_name']]"
      ],
      "metadata": {
        "id": "atdSrtq93UOB"
      },
      "execution_count": null,
      "outputs": []
    },
    {
      "cell_type": "code",
      "source": [
        "merge_middle.info()"
      ],
      "metadata": {
        "colab": {
          "base_uri": "https://localhost:8080/"
        },
        "id": "a2OHiseO3_4I",
        "outputId": "540e6fd9-af66-4dcf-895c-7afb4c9990be"
      },
      "execution_count": null,
      "outputs": [
        {
          "output_type": "stream",
          "name": "stdout",
          "text": [
            "<class 'pandas.core.frame.DataFrame'>\n",
            "Int64Index: 23719502 entries, 0 to 23719501\n",
            "Data columns (total 19 columns):\n",
            " #   Column                Dtype  \n",
            "---  ------                -----  \n",
            " 0   id_x                  int64  \n",
            " 1   student_worksheet_id  int64  \n",
            " 2   worksheet_problem_id  int64  \n",
            " 3   result                object \n",
            " 4   update_datetime_x     object \n",
            " 5   student_id            object \n",
            " 6   worksheet_id_y        int64  \n",
            " 7   problem_id            int64  \n",
            " 8   type_x                int64  \n",
            " 9   school_x              int64  \n",
            " 10  grade_x               object \n",
            " 11  level_x               int64  \n",
            " 12  problem_concept_id    int64  \n",
            " 13  group_code            float64\n",
            " 14  level_y               int64  \n",
            " 15  type_y                int64  \n",
            " 16  correct_rate_x        float64\n",
            " 17  middle_chapter_id     float64\n",
            " 18  middle_chapter_name   object \n",
            "dtypes: float64(3), int64(11), object(5)\n",
            "memory usage: 3.5+ GB\n"
          ]
        }
      ]
    },
    {
      "cell_type": "code",
      "source": [
        "merge_middle.to_csv('/content/drive/MyDrive/teamA/merge_middle.csv')"
      ],
      "metadata": {
        "id": "HQdxra6N3_6S"
      },
      "execution_count": null,
      "outputs": []
    },
    {
      "cell_type": "markdown",
      "source": [
        "# 클러스터링 데이터 보기"
      ],
      "metadata": {
        "id": "4ZuYWtrrifLc"
      }
    },
    {
      "cell_type": "code",
      "source": [
        "easy_exp = pd.read_csv('/content/drive/MyDrive/teamA/easy_exp.csv')"
      ],
      "metadata": {
        "id": "9yPjnNs0Vp52"
      },
      "execution_count": null,
      "outputs": []
    },
    {
      "cell_type": "code",
      "source": [
        "easy_exp.groupby('student_id').count().reset_index()"
      ],
      "metadata": {
        "id": "xYZ75_McVp8c",
        "colab": {
          "base_uri": "https://localhost:8080/",
          "height": 505
        },
        "outputId": "ea2e44e4-43d5-46e0-c91f-4e8fc531b913"
      },
      "execution_count": null,
      "outputs": [
        {
          "output_type": "execute_result",
          "data": {
            "text/plain": [
              "     student_id  Unnamed: 0  little_chapter_name  little_chapter_id  level_y  \\\n",
              "0       I100008         143                  143                143      143   \n",
              "1       I100067          32                   32                 32       32   \n",
              "2       I100168          11                   11                 11       11   \n",
              "3       I100652          62                   62                 62       62   \n",
              "4       I101743         239                  239                239      239   \n",
              "...         ...         ...                  ...                ...      ...   \n",
              "2602     I99260         181                  181                181      181   \n",
              "2603     I99362         416                  416                416      416   \n",
              "2604     I99363         443                  443                443      443   \n",
              "2605     I99616         234                  234                234      234   \n",
              "2606     I99773          19                   19                 19       19   \n",
              "\n",
              "      result  update_datetime  update_datetime_x  \n",
              "0        143              143                143  \n",
              "1         32               32                 32  \n",
              "2         11               11                 11  \n",
              "3         62               62                 62  \n",
              "4        239              239                239  \n",
              "...      ...              ...                ...  \n",
              "2602     181              181                181  \n",
              "2603     416              416                416  \n",
              "2604     443              443                443  \n",
              "2605     234              234                234  \n",
              "2606      19               19                 19  \n",
              "\n",
              "[2607 rows x 8 columns]"
            ],
            "text/html": [
              "\n",
              "  <div id=\"df-d6fb6f57-8e57-4d27-8e84-1225f6b885c8\">\n",
              "    <div class=\"colab-df-container\">\n",
              "      <div>\n",
              "<style scoped>\n",
              "    .dataframe tbody tr th:only-of-type {\n",
              "        vertical-align: middle;\n",
              "    }\n",
              "\n",
              "    .dataframe tbody tr th {\n",
              "        vertical-align: top;\n",
              "    }\n",
              "\n",
              "    .dataframe thead th {\n",
              "        text-align: right;\n",
              "    }\n",
              "</style>\n",
              "<table border=\"1\" class=\"dataframe\">\n",
              "  <thead>\n",
              "    <tr style=\"text-align: right;\">\n",
              "      <th></th>\n",
              "      <th>student_id</th>\n",
              "      <th>Unnamed: 0</th>\n",
              "      <th>little_chapter_name</th>\n",
              "      <th>little_chapter_id</th>\n",
              "      <th>level_y</th>\n",
              "      <th>result</th>\n",
              "      <th>update_datetime</th>\n",
              "      <th>update_datetime_x</th>\n",
              "    </tr>\n",
              "  </thead>\n",
              "  <tbody>\n",
              "    <tr>\n",
              "      <th>0</th>\n",
              "      <td>I100008</td>\n",
              "      <td>143</td>\n",
              "      <td>143</td>\n",
              "      <td>143</td>\n",
              "      <td>143</td>\n",
              "      <td>143</td>\n",
              "      <td>143</td>\n",
              "      <td>143</td>\n",
              "    </tr>\n",
              "    <tr>\n",
              "      <th>1</th>\n",
              "      <td>I100067</td>\n",
              "      <td>32</td>\n",
              "      <td>32</td>\n",
              "      <td>32</td>\n",
              "      <td>32</td>\n",
              "      <td>32</td>\n",
              "      <td>32</td>\n",
              "      <td>32</td>\n",
              "    </tr>\n",
              "    <tr>\n",
              "      <th>2</th>\n",
              "      <td>I100168</td>\n",
              "      <td>11</td>\n",
              "      <td>11</td>\n",
              "      <td>11</td>\n",
              "      <td>11</td>\n",
              "      <td>11</td>\n",
              "      <td>11</td>\n",
              "      <td>11</td>\n",
              "    </tr>\n",
              "    <tr>\n",
              "      <th>3</th>\n",
              "      <td>I100652</td>\n",
              "      <td>62</td>\n",
              "      <td>62</td>\n",
              "      <td>62</td>\n",
              "      <td>62</td>\n",
              "      <td>62</td>\n",
              "      <td>62</td>\n",
              "      <td>62</td>\n",
              "    </tr>\n",
              "    <tr>\n",
              "      <th>4</th>\n",
              "      <td>I101743</td>\n",
              "      <td>239</td>\n",
              "      <td>239</td>\n",
              "      <td>239</td>\n",
              "      <td>239</td>\n",
              "      <td>239</td>\n",
              "      <td>239</td>\n",
              "      <td>239</td>\n",
              "    </tr>\n",
              "    <tr>\n",
              "      <th>...</th>\n",
              "      <td>...</td>\n",
              "      <td>...</td>\n",
              "      <td>...</td>\n",
              "      <td>...</td>\n",
              "      <td>...</td>\n",
              "      <td>...</td>\n",
              "      <td>...</td>\n",
              "      <td>...</td>\n",
              "    </tr>\n",
              "    <tr>\n",
              "      <th>2602</th>\n",
              "      <td>I99260</td>\n",
              "      <td>181</td>\n",
              "      <td>181</td>\n",
              "      <td>181</td>\n",
              "      <td>181</td>\n",
              "      <td>181</td>\n",
              "      <td>181</td>\n",
              "      <td>181</td>\n",
              "    </tr>\n",
              "    <tr>\n",
              "      <th>2603</th>\n",
              "      <td>I99362</td>\n",
              "      <td>416</td>\n",
              "      <td>416</td>\n",
              "      <td>416</td>\n",
              "      <td>416</td>\n",
              "      <td>416</td>\n",
              "      <td>416</td>\n",
              "      <td>416</td>\n",
              "    </tr>\n",
              "    <tr>\n",
              "      <th>2604</th>\n",
              "      <td>I99363</td>\n",
              "      <td>443</td>\n",
              "      <td>443</td>\n",
              "      <td>443</td>\n",
              "      <td>443</td>\n",
              "      <td>443</td>\n",
              "      <td>443</td>\n",
              "      <td>443</td>\n",
              "    </tr>\n",
              "    <tr>\n",
              "      <th>2605</th>\n",
              "      <td>I99616</td>\n",
              "      <td>234</td>\n",
              "      <td>234</td>\n",
              "      <td>234</td>\n",
              "      <td>234</td>\n",
              "      <td>234</td>\n",
              "      <td>234</td>\n",
              "      <td>234</td>\n",
              "    </tr>\n",
              "    <tr>\n",
              "      <th>2606</th>\n",
              "      <td>I99773</td>\n",
              "      <td>19</td>\n",
              "      <td>19</td>\n",
              "      <td>19</td>\n",
              "      <td>19</td>\n",
              "      <td>19</td>\n",
              "      <td>19</td>\n",
              "      <td>19</td>\n",
              "    </tr>\n",
              "  </tbody>\n",
              "</table>\n",
              "<p>2607 rows × 8 columns</p>\n",
              "</div>\n",
              "      <button class=\"colab-df-convert\" onclick=\"convertToInteractive('df-d6fb6f57-8e57-4d27-8e84-1225f6b885c8')\"\n",
              "              title=\"Convert this dataframe to an interactive table.\"\n",
              "              style=\"display:none;\">\n",
              "        \n",
              "  <svg xmlns=\"http://www.w3.org/2000/svg\" height=\"24px\"viewBox=\"0 0 24 24\"\n",
              "       width=\"24px\">\n",
              "    <path d=\"M0 0h24v24H0V0z\" fill=\"none\"/>\n",
              "    <path d=\"M18.56 5.44l.94 2.06.94-2.06 2.06-.94-2.06-.94-.94-2.06-.94 2.06-2.06.94zm-11 1L8.5 8.5l.94-2.06 2.06-.94-2.06-.94L8.5 2.5l-.94 2.06-2.06.94zm10 10l.94 2.06.94-2.06 2.06-.94-2.06-.94-.94-2.06-.94 2.06-2.06.94z\"/><path d=\"M17.41 7.96l-1.37-1.37c-.4-.4-.92-.59-1.43-.59-.52 0-1.04.2-1.43.59L10.3 9.45l-7.72 7.72c-.78.78-.78 2.05 0 2.83L4 21.41c.39.39.9.59 1.41.59.51 0 1.02-.2 1.41-.59l7.78-7.78 2.81-2.81c.8-.78.8-2.07 0-2.86zM5.41 20L4 18.59l7.72-7.72 1.47 1.35L5.41 20z\"/>\n",
              "  </svg>\n",
              "      </button>\n",
              "      \n",
              "  <style>\n",
              "    .colab-df-container {\n",
              "      display:flex;\n",
              "      flex-wrap:wrap;\n",
              "      gap: 12px;\n",
              "    }\n",
              "\n",
              "    .colab-df-convert {\n",
              "      background-color: #E8F0FE;\n",
              "      border: none;\n",
              "      border-radius: 50%;\n",
              "      cursor: pointer;\n",
              "      display: none;\n",
              "      fill: #1967D2;\n",
              "      height: 32px;\n",
              "      padding: 0 0 0 0;\n",
              "      width: 32px;\n",
              "    }\n",
              "\n",
              "    .colab-df-convert:hover {\n",
              "      background-color: #E2EBFA;\n",
              "      box-shadow: 0px 1px 2px rgba(60, 64, 67, 0.3), 0px 1px 3px 1px rgba(60, 64, 67, 0.15);\n",
              "      fill: #174EA6;\n",
              "    }\n",
              "\n",
              "    [theme=dark] .colab-df-convert {\n",
              "      background-color: #3B4455;\n",
              "      fill: #D2E3FC;\n",
              "    }\n",
              "\n",
              "    [theme=dark] .colab-df-convert:hover {\n",
              "      background-color: #434B5C;\n",
              "      box-shadow: 0px 1px 3px 1px rgba(0, 0, 0, 0.15);\n",
              "      filter: drop-shadow(0px 1px 2px rgba(0, 0, 0, 0.3));\n",
              "      fill: #FFFFFF;\n",
              "    }\n",
              "  </style>\n",
              "\n",
              "      <script>\n",
              "        const buttonEl =\n",
              "          document.querySelector('#df-d6fb6f57-8e57-4d27-8e84-1225f6b885c8 button.colab-df-convert');\n",
              "        buttonEl.style.display =\n",
              "          google.colab.kernel.accessAllowed ? 'block' : 'none';\n",
              "\n",
              "        async function convertToInteractive(key) {\n",
              "          const element = document.querySelector('#df-d6fb6f57-8e57-4d27-8e84-1225f6b885c8');\n",
              "          const dataTable =\n",
              "            await google.colab.kernel.invokeFunction('convertToInteractive',\n",
              "                                                     [key], {});\n",
              "          if (!dataTable) return;\n",
              "\n",
              "          const docLinkHtml = 'Like what you see? Visit the ' +\n",
              "            '<a target=\"_blank\" href=https://colab.research.google.com/notebooks/data_table.ipynb>data table notebook</a>'\n",
              "            + ' to learn more about interactive tables.';\n",
              "          element.innerHTML = '';\n",
              "          dataTable['output_type'] = 'display_data';\n",
              "          await google.colab.output.renderOutput(dataTable, element);\n",
              "          const docLink = document.createElement('div');\n",
              "          docLink.innerHTML = docLinkHtml;\n",
              "          element.appendChild(docLink);\n",
              "        }\n",
              "      </script>\n",
              "    </div>\n",
              "  </div>\n",
              "  "
            ]
          },
          "metadata": {},
          "execution_count": 7
        }
      ]
    },
    {
      "cell_type": "code",
      "source": [],
      "metadata": {
        "id": "Pw4-GfKPjGbc"
      },
      "execution_count": null,
      "outputs": []
    }
  ]
}